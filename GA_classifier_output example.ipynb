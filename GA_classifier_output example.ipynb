{
 "cells": [
  {
   "cell_type": "code",
   "execution_count": 1,
   "metadata": {},
   "outputs": [
    {
     "name": "stderr",
     "output_type": "stream",
     "text": [
      "2022-02-15 01:34:43.756395: I tensorflow/stream_executor/platform/default/dso_loader.cc:48] Successfully opened dynamic library libcudart.so.10.1\n"
     ]
    }
   ],
   "source": [
    "from keras.models import Model, Sequential\n",
    "from keras.layers import Input, Dense, Convolution2D, Flatten, Dropout,GlobalAveragePooling2D\n",
    "from keras import backend as K\n",
    "from keras.callbacks import EarlyStopping\n",
    "from keras import models\n",
    "from keras import layers\n",
    "from keras import optimizers\n",
    "from keras import metrics\n",
    "from keras.applications.inception_resnet_v2 import preprocess_input\n",
    "from attention import AttentionLayer\n",
    "from sklearn.metrics import roc_auc_score\n",
    "import os\n",
    "import pandas as pd\n",
    "#import keras\n",
    "import numpy as np\n",
    "import random\n",
    "\n",
    "import warnings\n",
    "warnings.filterwarnings('ignore')"
   ]
  },
  {
   "cell_type": "code",
   "execution_count": 2,
   "metadata": {},
   "outputs": [
    {
     "name": "stderr",
     "output_type": "stream",
     "text": [
      "2022-02-15 01:34:44.907483: I tensorflow/stream_executor/platform/default/dso_loader.cc:48] Successfully opened dynamic library libcuda.so.1\n",
      "2022-02-15 01:34:44.933133: I tensorflow/stream_executor/cuda/cuda_gpu_executor.cc:982] successful NUMA node read from SysFS had negative value (-1), but there must be at least one NUMA node, so returning NUMA node zero\n",
      "2022-02-15 01:34:44.933704: I tensorflow/core/common_runtime/gpu/gpu_device.cc:1716] Found device 0 with properties: \n",
      "pciBusID: 0000:24:00.0 name: NVIDIA GeForce GTX 1080 computeCapability: 6.1\n",
      "coreClock: 1.86GHz coreCount: 20 deviceMemorySize: 7.93GiB deviceMemoryBandwidth: 298.32GiB/s\n",
      "2022-02-15 01:34:44.933731: I tensorflow/stream_executor/platform/default/dso_loader.cc:48] Successfully opened dynamic library libcudart.so.10.1\n",
      "2022-02-15 01:34:44.935530: I tensorflow/stream_executor/platform/default/dso_loader.cc:48] Successfully opened dynamic library libcublas.so.10\n",
      "2022-02-15 01:34:44.937270: I tensorflow/stream_executor/platform/default/dso_loader.cc:48] Successfully opened dynamic library libcufft.so.10\n",
      "2022-02-15 01:34:44.937567: I tensorflow/stream_executor/platform/default/dso_loader.cc:48] Successfully opened dynamic library libcurand.so.10\n",
      "2022-02-15 01:34:44.939172: I tensorflow/stream_executor/platform/default/dso_loader.cc:48] Successfully opened dynamic library libcusolver.so.10\n",
      "2022-02-15 01:34:44.939923: I tensorflow/stream_executor/platform/default/dso_loader.cc:48] Successfully opened dynamic library libcusparse.so.10\n",
      "2022-02-15 01:34:44.942327: I tensorflow/stream_executor/platform/default/dso_loader.cc:48] Successfully opened dynamic library libcudnn.so.7\n",
      "2022-02-15 01:34:44.942488: I tensorflow/stream_executor/cuda/cuda_gpu_executor.cc:982] successful NUMA node read from SysFS had negative value (-1), but there must be at least one NUMA node, so returning NUMA node zero\n",
      "2022-02-15 01:34:44.942931: I tensorflow/stream_executor/cuda/cuda_gpu_executor.cc:982] successful NUMA node read from SysFS had negative value (-1), but there must be at least one NUMA node, so returning NUMA node zero\n",
      "2022-02-15 01:34:44.943255: I tensorflow/core/common_runtime/gpu/gpu_device.cc:1858] Adding visible gpu devices: 0\n"
     ]
    }
   ],
   "source": [
    "import warnings\n",
    "warnings.filterwarnings('ignore')\n",
    "\n",
    "import tensorflow as tf\n",
    "gpus = tf.config.experimental.list_physical_devices('GPU')\n",
    "if gpus:\n",
    "    try:\n",
    "        for gpu in gpus:\n",
    "            tf.config.experimental.set_memory_growth(gpu, True)\n",
    "\n",
    "    except RuntimeError as e:\n",
    "        print(e)"
   ]
  },
  {
   "cell_type": "code",
   "execution_count": 3,
   "metadata": {},
   "outputs": [
    {
     "name": "stdout",
     "output_type": "stream",
     "text": [
      "['rs3737967', 'rs1537514', 'rs2274976', 'rs1801131', 'rs1801133', 'rs9651118', 'rs3753582', 'rs4147871', 'rs560426', 'rs1209169', 'rs481931', 'rs16827741', 'rs2228099', 'rs11204737', 'rs3768012', 'rs7517566', 'rs1044516', 'rs599021', 'rs17317411', 'rs2235373', 'rs2235371', 'rs2235375', 'rs595918', 'rs17015218', 'rs2013162', 'rs3821272', 'rs930655', 'rs3732247', 'rs765871', 'rs3771498', 'rs3771497', 'rs3755377', 'rs3771485', 'rs11466212', 'rs3771475', 'rs1139', 'rs3821949', 'rs12532', 'rs4464513', 'rs698', 'rs1693482', 'rs2241894', 'rs2255796', 'rs7713638', 'rs7715100', 'rs15251', 'rs16873348', 'rs910586', 'rs2819861', 'rs1934328', 'rs987525', 'rs7078160', 'rs7940667', 'rs7103685', 'rs931953', 'rs10790330', 'rs906830', 'rs7129848', 'rs3935406', 'rs10892434', 'rs4409845', 'rs2136421', 'rs2295221', 'rs7142363', 'rs2073247', 'rs17104928', 'rs17176643', 'rs11156925', 'rs17104939', 'rs17104944', 'rs17104965', 'rs1884213', 'rs3917211', 'rs2284791', 'rs3917205', 'rs4252340', 'rs3917192', 'rs3917187', 'rs4252328', 'rs7217852', 'rs2715553', 'rs142167', 'rs9890413', 'rs2965169', 'rs8100239', 'rs13041247', 'rs6029273', 'rs3577', 'rs6621539', 'rs11796677', 'rs1429591', 'rs195291']\n"
     ]
    }
   ],
   "source": [
    "datadir = \"./data/akac_gen.txt\"\n",
    "dataset = pd.read_csv(datadir, delimiter =\"\\t\", header = 0)\n",
    "#print(list(dataset.columns))\n",
    "dataset = dataset.sample(frac=1, random_state=77)  # row 전체 shuffle\n",
    "\n",
    "SNPs = ['rs2235373','rs16873348','rs2284791','rs2013162','rs595918','rs3753582','rs2235375','rs1044516','rs11204737','rs1044516','rs7715100','rs3917192','rs2235371']\n",
    "full = list(dataset.columns)\n",
    "del full[0:6]\n",
    "full.remove('rs11466414')\n",
    "full.remove(\"rs12089548\")\n",
    "print(full)\n",
    "snps = ['rs11204737', 'rs2255796', 'rs2235373','rs16873348']\n",
    "#,'rs2284791','rs595918','rs3753582','rs2013162', 'rs1139'\n",
    "#['rs2235373','rs16873348','rs2284791','rs2013162','rs595918','rs3753582']\n",
    "#dataset.head()"
   ]
  },
  {
   "cell_type": "code",
   "execution_count": 4,
   "metadata": {},
   "outputs": [
    {
     "name": "stdout",
     "output_type": "stream",
     "text": [
      "(262, 4)\n"
     ]
    }
   ],
   "source": [
    "dataset.shape\n",
    "y_train = pd.to_numeric(dataset['affected']) -1\n",
    "X_train = dataset[snps]\n",
    "x_train_np = np.array(X_train).astype(\"float\")\n",
    "y_train_np = np.array(y_train)\n",
    "input_dim = X_train.shape[1]\n",
    "print(x_train_np.shape)"
   ]
  },
  {
   "cell_type": "code",
   "execution_count": 5,
   "metadata": {},
   "outputs": [],
   "source": [
    "snps_num = 16\n",
    "no_of_generations = 200\n",
    "no_of_individuals = 30\n",
    "mutate_factor = 0.03"
   ]
  },
  {
   "cell_type": "code",
   "execution_count": 6,
   "metadata": {},
   "outputs": [],
   "source": [
    "def mutate(new_individual):\n",
    "    genes = []\n",
    "    leftover = [v for v in full if v not in new_individual]\n",
    "    for gene in new_individual:\n",
    "        n = random.random()\n",
    "        if(n < mutate_factor):\n",
    "            k = random.randrange(len(leftover))\n",
    "            genes.append(leftover[k])\n",
    "            del leftover[k]\n",
    "        else:\n",
    "            genes.append(gene)  \n",
    "    return genes\n",
    "\n",
    "def crossover(individuals):\n",
    "    new_individuals = []\n",
    "    elite = 8\n",
    "    for i in range(elite):\n",
    "        new_individuals.append(individuals[i])\n",
    "    #엘리트 살아남음\n",
    "\n",
    "    for i in range(elite, no_of_individuals):\n",
    "        new_individual = []\n",
    "        #if(i < (no_of_individuals - 2)):\n",
    "        if(i == 2):\n",
    "            parentA = random.choice(individuals[:3])\n",
    "            parentB = random.choice(individuals[:3])\n",
    "        else:\n",
    "            parentA = random.choice(individuals[:])\n",
    "            parentB = random.choice(individuals[:])\n",
    "        #아래에서 유전자 반반씩 나눠 줌\n",
    "        for i in range(len(parentA)):\n",
    "            n = random.random()\n",
    "            if(n< 0.5):\n",
    "                if parentA[i] in new_individual:\n",
    "                    new_individual.append(parentB[i])\n",
    "                else:\n",
    "                    new_individual.append(parentA[i])\n",
    "            else:\n",
    "                if parentB[i] in new_individual:\n",
    "                    new_individual.append(parentA[i])\n",
    "                else:\n",
    "                    new_individual.append(parentB[i])\n",
    "        #else:\n",
    "        #    new_individual = random.choice(individuals[:])\n",
    "\n",
    "        new_individuals.append(mutate(new_individual))\n",
    "        #new_individuals.append(new_individual)\n",
    "\n",
    "    return new_individuals\n",
    "\n",
    "def evolve(individuals, fitness):\n",
    "  \n",
    "    sorted_y_idx_list = sorted(range(len(fitness)),key=lambda x:fitness[x])\n",
    "    individuals = [individuals[i] for i in sorted_y_idx_list ]\n",
    "    fitness = [fitness[i] for i in sorted_y_idx_list ]\n",
    "    #print(fitness)\n",
    "    #individuals.reverse()\n",
    "\n",
    "    new_individuals = crossover(individuals)\n",
    "\n",
    "    return new_individuals"
   ]
  },
  {
   "cell_type": "code",
   "execution_count": 7,
   "metadata": {},
   "outputs": [],
   "source": [
    "def load_model(size, input_dim):\n",
    "    model = Sequential()\n",
    "    model.add(Dense(size,input_dim = input_dim,activation='relu'))\n",
    "    model.add(Dense(size*2,input_dim = input_dim,activation='relu'))\n",
    "    #model.add(Dropout(0.2))\n",
    "    model.add(Dense(size*2,input_dim = size,activation='relu'))\n",
    "    model.add(Dense(1,input_dim = size,activation='sigmoid', name='lastfc'))\n",
    "    model.compile(loss='mse', optimizer='adam', metrics=[\"accuracy\"])\n",
    "    \n",
    "    return model"
   ]
  },
  {
   "cell_type": "code",
   "execution_count": 8,
   "metadata": {},
   "outputs": [],
   "source": [
    "def train(individuals):\n",
    "    fitness = []\n",
    "    fitness_a = []\n",
    "    for i in range(len(individuals)):\n",
    "        model.set_weights(Wsave)\n",
    "        X_train = dataset[individuals[i]]\n",
    "        x_train_np = np.array(X_train).astype(\"float\")\n",
    "        \n",
    "        history = model.fit(x=X_train,y=y_train, epochs=100,verbose=0,validation_split=0.25)\n",
    "        \n",
    "        for k,j in zip(history.history[\"val_loss\"], history.history[\"loss\"]):\n",
    "            fitness_a.append((k+j)/2)  \n",
    "        fitness.append(round(min(fitness_a), 4))\n",
    "        \n",
    "    return individuals, fitness"
   ]
  },
  {
   "cell_type": "code",
   "execution_count": 10,
   "metadata": {},
   "outputs": [
    {
     "name": "stderr",
     "output_type": "stream",
     "text": [
      "2022-02-15 01:34:45.029366: I tensorflow/core/platform/cpu_feature_guard.cc:142] This TensorFlow binary is optimized with oneAPI Deep Neural Network Library (oneDNN)to use the following CPU instructions in performance-critical operations:  AVX2 FMA\n",
      "To enable them in other operations, rebuild TensorFlow with the appropriate compiler flags.\n",
      "2022-02-15 01:34:45.053960: I tensorflow/core/platform/profile_utils/cpu_utils.cc:104] CPU Frequency: 3599530000 Hz\n",
      "2022-02-15 01:34:45.054921: I tensorflow/compiler/xla/service/service.cc:168] XLA service 0x25a0450 initialized for platform Host (this does not guarantee that XLA will be used). Devices:\n",
      "2022-02-15 01:34:45.054955: I tensorflow/compiler/xla/service/service.cc:176]   StreamExecutor device (0): Host, Default Version\n",
      "2022-02-15 01:34:45.129729: I tensorflow/stream_executor/cuda/cuda_gpu_executor.cc:982] successful NUMA node read from SysFS had negative value (-1), but there must be at least one NUMA node, so returning NUMA node zero\n",
      "2022-02-15 01:34:45.130255: I tensorflow/compiler/xla/service/service.cc:168] XLA service 0x42c6270 initialized for platform CUDA (this does not guarantee that XLA will be used). Devices:\n",
      "2022-02-15 01:34:45.130293: I tensorflow/compiler/xla/service/service.cc:176]   StreamExecutor device (0): NVIDIA GeForce GTX 1080, Compute Capability 6.1\n",
      "2022-02-15 01:34:45.130605: I tensorflow/stream_executor/cuda/cuda_gpu_executor.cc:982] successful NUMA node read from SysFS had negative value (-1), but there must be at least one NUMA node, so returning NUMA node zero\n",
      "2022-02-15 01:34:45.131180: I tensorflow/core/common_runtime/gpu/gpu_device.cc:1716] Found device 0 with properties: \n",
      "pciBusID: 0000:24:00.0 name: NVIDIA GeForce GTX 1080 computeCapability: 6.1\n",
      "coreClock: 1.86GHz coreCount: 20 deviceMemorySize: 7.93GiB deviceMemoryBandwidth: 298.32GiB/s\n",
      "2022-02-15 01:34:45.131213: I tensorflow/stream_executor/platform/default/dso_loader.cc:48] Successfully opened dynamic library libcudart.so.10.1\n",
      "2022-02-15 01:34:45.131240: I tensorflow/stream_executor/platform/default/dso_loader.cc:48] Successfully opened dynamic library libcublas.so.10\n",
      "2022-02-15 01:34:45.131256: I tensorflow/stream_executor/platform/default/dso_loader.cc:48] Successfully opened dynamic library libcufft.so.10\n",
      "2022-02-15 01:34:45.131272: I tensorflow/stream_executor/platform/default/dso_loader.cc:48] Successfully opened dynamic library libcurand.so.10\n",
      "2022-02-15 01:34:45.131287: I tensorflow/stream_executor/platform/default/dso_loader.cc:48] Successfully opened dynamic library libcusolver.so.10\n",
      "2022-02-15 01:34:45.131302: I tensorflow/stream_executor/platform/default/dso_loader.cc:48] Successfully opened dynamic library libcusparse.so.10\n",
      "2022-02-15 01:34:45.131317: I tensorflow/stream_executor/platform/default/dso_loader.cc:48] Successfully opened dynamic library libcudnn.so.7\n",
      "2022-02-15 01:34:45.131406: I tensorflow/stream_executor/cuda/cuda_gpu_executor.cc:982] successful NUMA node read from SysFS had negative value (-1), but there must be at least one NUMA node, so returning NUMA node zero\n",
      "2022-02-15 01:34:45.132102: I tensorflow/stream_executor/cuda/cuda_gpu_executor.cc:982] successful NUMA node read from SysFS had negative value (-1), but there must be at least one NUMA node, so returning NUMA node zero\n",
      "2022-02-15 01:34:45.132621: I tensorflow/core/common_runtime/gpu/gpu_device.cc:1858] Adding visible gpu devices: 0\n",
      "2022-02-15 01:34:45.132658: I tensorflow/stream_executor/platform/default/dso_loader.cc:48] Successfully opened dynamic library libcudart.so.10.1\n",
      "2022-02-15 01:34:45.437964: I tensorflow/core/common_runtime/gpu/gpu_device.cc:1257] Device interconnect StreamExecutor with strength 1 edge matrix:\n",
      "2022-02-15 01:34:45.437999: I tensorflow/core/common_runtime/gpu/gpu_device.cc:1263]      0 \n",
      "2022-02-15 01:34:45.438006: I tensorflow/core/common_runtime/gpu/gpu_device.cc:1276] 0:   N \n",
      "2022-02-15 01:34:45.438235: I tensorflow/stream_executor/cuda/cuda_gpu_executor.cc:982] successful NUMA node read from SysFS had negative value (-1), but there must be at least one NUMA node, so returning NUMA node zero\n",
      "2022-02-15 01:34:45.438645: I tensorflow/stream_executor/cuda/cuda_gpu_executor.cc:982] successful NUMA node read from SysFS had negative value (-1), but there must be at least one NUMA node, so returning NUMA node zero\n",
      "2022-02-15 01:34:45.439013: I tensorflow/core/common_runtime/gpu/gpu_device.cc:1402] Created TensorFlow device (/job:localhost/replica:0/task:0/device:GPU:0 with 5075 MB memory) -> physical GPU (device: 0, name: NVIDIA GeForce GTX 1080, pci bus id: 0000:24:00.0, compute capability: 6.1)\n",
      "2022-02-15 01:34:45.785688: I tensorflow/stream_executor/platform/default/dso_loader.cc:48] Successfully opened dynamic library libcublas.so.10\n"
     ]
    },
    {
     "name": "stdout",
     "output_type": "stream",
     "text": [
      "[0.2174, 0.1653, 0.1653, 0.1653, 0.1653, 0.1653, 0.1653, 0.1653, 0.1653, 0.1653, 0.1648, 0.1648, 0.1648, 0.1648, 0.1648, 0.1648, 0.1648, 0.1648, 0.1648, 0.1648, 0.1648, 0.1648, 0.1648, 0.1648, 0.1648, 0.1648, 0.1648, 0.1648, 0.1648, 0.1648]\n",
      "[0.1646, 0.1646, 0.1646, 0.1646, 0.1646, 0.1646, 0.1646, 0.1646, 0.1646, 0.1646, 0.1646, 0.1646, 0.1646, 0.1646, 0.1646, 0.1646, 0.1646, 0.1646, 0.1646, 0.1646, 0.1646, 0.1646, 0.1646, 0.1646, 0.1646, 0.1646, 0.1646, 0.1646, 0.1646, 0.1646]\n",
      "[0.1616, 0.1616, 0.1616, 0.1616, 0.1616, 0.1616, 0.1616, 0.1616, 0.1616, 0.1616, 0.1616, 0.1616, 0.1616, 0.1616, 0.1616, 0.1616, 0.1616, 0.1616, 0.1616, 0.1616, 0.1616, 0.1616, 0.1616, 0.1616, 0.1616, 0.1616, 0.1616, 0.1616, 0.1616, 0.1616]\n",
      "[0.1673, 0.1673, 0.1673, 0.1673, 0.1673, 0.1673, 0.1673, 0.1673, 0.1673, 0.1673, 0.1673, 0.1673, 0.1673, 0.1673, 0.1673, 0.1673, 0.1673, 0.1673, 0.1673, 0.1673, 0.1673, 0.1673, 0.1673, 0.1673, 0.1673, 0.1673, 0.1673, 0.1673, 0.1673, 0.1673]\n",
      "[0.1849, 0.1849, 0.1849, 0.1849, 0.181, 0.181, 0.1751, 0.1751, 0.1751, 0.1751, 0.1751, 0.1751, 0.1751, 0.1751, 0.1751, 0.171, 0.171, 0.171, 0.171, 0.171, 0.171, 0.171, 0.171, 0.171, 0.171, 0.171, 0.171, 0.171, 0.171, 0.171]\n",
      "[0.1954, 0.1954, 0.1954, 0.1954, 0.1954, 0.1954, 0.1954, 0.1942, 0.1942, 0.1752, 0.1752, 0.1752, 0.1752, 0.1752, 0.1752, 0.1752, 0.1752, 0.1752, 0.1752, 0.1752, 0.1752, 0.1752, 0.1752, 0.1752, 0.1752, 0.1752, 0.1752, 0.1752, 0.1752, 0.1752]\n",
      "[0.1849, 0.1849, 0.1808, 0.1808, 0.1808, 0.1792, 0.1792, 0.1792, 0.1792, 0.1792, 0.1792, 0.1792, 0.179, 0.179, 0.1776, 0.1776, 0.1776, 0.1776, 0.1776, 0.1776, 0.1776, 0.1776, 0.1776, 0.1776, 0.1776, 0.1776, 0.1776, 0.1776, 0.1776, 0.1776]\n",
      "[0.1878, 0.1878, 0.1878, 0.1878, 0.1878, 0.1878, 0.1878, 0.1878, 0.1878, 0.1878, 0.186, 0.186, 0.1769, 0.1769, 0.1769, 0.1769, 0.1769, 0.1769, 0.1769, 0.1769, 0.1769, 0.1769, 0.1769, 0.1769, 0.1769, 0.1769, 0.1769, 0.1769, 0.1769, 0.1769]\n",
      "[0.1711, 0.1711, 0.1711, 0.1679, 0.1679, 0.1679, 0.1679, 0.1679, 0.1679, 0.1679, 0.1679, 0.1679, 0.1679, 0.1679, 0.1679, 0.1679, 0.1679, 0.1679, 0.1679, 0.1679, 0.1679, 0.1679, 0.1679, 0.1679, 0.1679, 0.1679, 0.1679, 0.1679, 0.1679, 0.1679]\n",
      "[0.1875, 0.1875, 0.1875, 0.1875, 0.1836, 0.1817, 0.1817, 0.1817, 0.1817, 0.1817, 0.1817, 0.1817, 0.1654, 0.1654, 0.1654, 0.1654, 0.1654, 0.1654, 0.1654, 0.1654, 0.1654, 0.1654, 0.1654, 0.1654, 0.1654, 0.1646, 0.1646, 0.1646, 0.1646, 0.1646]\n",
      "[0.1601, 0.1601, 0.1601, 0.1601, 0.1601, 0.1601, 0.1601, 0.1601, 0.1601, 0.1601, 0.1601, 0.1601, 0.1601, 0.1601, 0.1601, 0.1601, 0.1601, 0.1601, 0.1601, 0.1601, 0.1601, 0.1601, 0.1601, 0.1601, 0.1601, 0.1601, 0.1601, 0.1601, 0.1601, 0.1601]\n",
      "[0.1687, 0.1687, 0.1687, 0.1687, 0.1687, 0.1661, 0.1661, 0.1661, 0.1661, 0.1661, 0.1661, 0.1661, 0.1661, 0.1661, 0.1661, 0.1661, 0.1661, 0.1661, 0.1661, 0.1661, 0.1661, 0.1661, 0.1661, 0.1661, 0.1661, 0.162, 0.162, 0.162, 0.162, 0.162]\n",
      "[0.1715, 0.1715, 0.1715, 0.1715, 0.1715, 0.1715, 0.1715, 0.1715, 0.1715, 0.1715, 0.1715, 0.1697, 0.1697, 0.1697, 0.1697, 0.1697, 0.1697, 0.1697, 0.1697, 0.1697, 0.1697, 0.1697, 0.1697, 0.1697, 0.1697, 0.1697, 0.1697, 0.1697, 0.1697, 0.1697]\n",
      "[0.1575, 0.1575, 0.1575, 0.1575, 0.1575, 0.1575, 0.1575, 0.1575, 0.1575, 0.1575, 0.1575, 0.1575, 0.1443, 0.1443, 0.1443, 0.1443, 0.1443, 0.1443, 0.1443, 0.1443, 0.1443, 0.1443, 0.1443, 0.1443, 0.1443, 0.1443, 0.1443, 0.1443, 0.1443, 0.1443]\n",
      "[0.1555, 0.1555, 0.1555, 0.1555, 0.1555, 0.1555, 0.1555, 0.1555, 0.1555, 0.1555, 0.1555, 0.1555, 0.1555, 0.1555, 0.1555, 0.1555, 0.1555, 0.1555, 0.1555, 0.1555, 0.1555, 0.1555, 0.1555, 0.1555, 0.1555, 0.1555, 0.1555, 0.1555, 0.1555, 0.1555]\n",
      "[0.1594, 0.1594, 0.1594, 0.1594, 0.1594, 0.1594, 0.1594, 0.1594, 0.1594, 0.1594, 0.1594, 0.1594, 0.1594, 0.1594, 0.1594, 0.1594, 0.1594, 0.1594, 0.1594, 0.1594, 0.1594, 0.1594, 0.1594, 0.1594, 0.1594, 0.1594, 0.1594, 0.1594, 0.1594, 0.1594]\n",
      "[0.1655, 0.1655, 0.1655, 0.1655, 0.1655, 0.1655, 0.1655, 0.1655, 0.1655, 0.1655, 0.1655, 0.1655, 0.1655, 0.1655, 0.1655, 0.1655, 0.1655, 0.1655, 0.1559, 0.1559, 0.1559, 0.1559, 0.1559, 0.1559, 0.1559, 0.1559, 0.1559, 0.1509, 0.1509, 0.1509]\n",
      "[0.1496, 0.1496, 0.1496, 0.1496, 0.1496, 0.1496, 0.1496, 0.1496, 0.1496, 0.1496, 0.1496, 0.1496, 0.1496, 0.1496, 0.1496, 0.1496, 0.1496, 0.1496, 0.1496, 0.1496, 0.1496, 0.1496, 0.1496, 0.1496, 0.1496, 0.1496, 0.1496, 0.1496, 0.1496, 0.1496]\n",
      "[0.1477, 0.1477, 0.1477, 0.1477, 0.1477, 0.1477, 0.1477, 0.1477, 0.1477, 0.1477, 0.1477, 0.1477, 0.1477, 0.1477, 0.1477, 0.1477, 0.1477, 0.1477, 0.1477, 0.1477, 0.1477, 0.1477, 0.1477, 0.1477, 0.1477, 0.1477, 0.1477, 0.1477, 0.1477, 0.1477]\n",
      "[0.1542, 0.1542, 0.1542, 0.1542, 0.1542, 0.1542, 0.1542, 0.1542, 0.1542, 0.1542, 0.1542, 0.1542, 0.1542, 0.1542, 0.1542, 0.1542, 0.1542, 0.1542, 0.1542, 0.1542, 0.1542, 0.1542, 0.1542, 0.1542, 0.1542, 0.1542, 0.1542, 0.1542, 0.1542, 0.1542]\n",
      "[0.1564, 0.1564, 0.1564, 0.1564, 0.1564, 0.1564, 0.1564, 0.1564, 0.1564, 0.1564, 0.1564, 0.1564, 0.1564, 0.1564, 0.1564, 0.1564, 0.1564, 0.1564, 0.1495, 0.1495, 0.1495, 0.1495, 0.1495, 0.1495, 0.1495, 0.1495, 0.1495, 0.1495, 0.1495, 0.1495]\n",
      "[0.1621, 0.1621, 0.1621, 0.1621, 0.1621, 0.1621, 0.1621, 0.1621, 0.1621, 0.1621, 0.1621, 0.1621, 0.1621, 0.1489, 0.1489, 0.1489, 0.1489, 0.1489, 0.1489, 0.1489, 0.1489, 0.1489, 0.1489, 0.1489, 0.1489, 0.1489, 0.1489, 0.1489, 0.1489, 0.1489]\n",
      "[0.1502, 0.1502, 0.1502, 0.1502, 0.1502, 0.1502, 0.1502, 0.1502, 0.1502, 0.1502, 0.1502, 0.1502, 0.1502, 0.1502, 0.1502, 0.1502, 0.1502, 0.1502, 0.1502, 0.1502, 0.1502, 0.1502, 0.1502, 0.1502, 0.1502, 0.1502, 0.1502, 0.1502, 0.1502, 0.1502]\n",
      "[0.145, 0.145, 0.145, 0.145, 0.145, 0.145, 0.145, 0.145, 0.145, 0.145, 0.145, 0.145, 0.145, 0.145, 0.145, 0.145, 0.145, 0.145, 0.145, 0.145, 0.145, 0.145, 0.145, 0.145, 0.145, 0.145, 0.145, 0.145, 0.145, 0.145]\n",
      "[0.1544, 0.1544, 0.1544, 0.1544, 0.1544, 0.1544, 0.1544, 0.1544, 0.1544, 0.1544, 0.1544, 0.1544, 0.1544, 0.1544, 0.1544, 0.1544, 0.1544, 0.145, 0.145, 0.145, 0.145, 0.145, 0.145, 0.145, 0.145, 0.145, 0.145, 0.145, 0.145, 0.145]\n"
     ]
    },
    {
     "ename": "KeyboardInterrupt",
     "evalue": "",
     "output_type": "error",
     "traceback": [
      "\u001b[0;31m---------------------------------------------------------------------------\u001b[0m",
      "\u001b[0;31mKeyboardInterrupt\u001b[0m                         Traceback (most recent call last)",
      "\u001b[0;32m/tmp/ipykernel_3422120/3244524314.py\u001b[0m in \u001b[0;36m<module>\u001b[0;34m\u001b[0m\n\u001b[1;32m     13\u001b[0m \u001b[0;32mfor\u001b[0m \u001b[0mgeneration\u001b[0m \u001b[0;32min\u001b[0m \u001b[0mrange\u001b[0m\u001b[0;34m(\u001b[0m\u001b[0mno_of_generations\u001b[0m\u001b[0;34m)\u001b[0m\u001b[0;34m:\u001b[0m\u001b[0;34m\u001b[0m\u001b[0;34m\u001b[0m\u001b[0m\n\u001b[1;32m     14\u001b[0m \u001b[0;34m\u001b[0m\u001b[0m\n\u001b[0;32m---> 15\u001b[0;31m     \u001b[0mindividuals\u001b[0m\u001b[0;34m,\u001b[0m \u001b[0mfitness\u001b[0m \u001b[0;34m=\u001b[0m \u001b[0mtrain\u001b[0m\u001b[0;34m(\u001b[0m\u001b[0mindividuals\u001b[0m\u001b[0;34m)\u001b[0m\u001b[0;34m\u001b[0m\u001b[0;34m\u001b[0m\u001b[0m\n\u001b[0m\u001b[1;32m     16\u001b[0m     \u001b[0mprint\u001b[0m\u001b[0;34m(\u001b[0m\u001b[0mfitness\u001b[0m\u001b[0;34m)\u001b[0m\u001b[0;34m\u001b[0m\u001b[0;34m\u001b[0m\u001b[0m\n\u001b[1;32m     17\u001b[0m \u001b[0;34m\u001b[0m\u001b[0m\n",
      "\u001b[0;32m/tmp/ipykernel_3422120/2325583015.py\u001b[0m in \u001b[0;36mtrain\u001b[0;34m(individuals)\u001b[0m\n\u001b[1;32m      7\u001b[0m         \u001b[0mx_train_np\u001b[0m \u001b[0;34m=\u001b[0m \u001b[0mnp\u001b[0m\u001b[0;34m.\u001b[0m\u001b[0marray\u001b[0m\u001b[0;34m(\u001b[0m\u001b[0mX_train\u001b[0m\u001b[0;34m)\u001b[0m\u001b[0;34m.\u001b[0m\u001b[0mastype\u001b[0m\u001b[0;34m(\u001b[0m\u001b[0;34m\"float\"\u001b[0m\u001b[0;34m)\u001b[0m\u001b[0;34m\u001b[0m\u001b[0;34m\u001b[0m\u001b[0m\n\u001b[1;32m      8\u001b[0m \u001b[0;34m\u001b[0m\u001b[0m\n\u001b[0;32m----> 9\u001b[0;31m         \u001b[0mhistory\u001b[0m \u001b[0;34m=\u001b[0m \u001b[0mmodel\u001b[0m\u001b[0;34m.\u001b[0m\u001b[0mfit\u001b[0m\u001b[0;34m(\u001b[0m\u001b[0mx\u001b[0m\u001b[0;34m=\u001b[0m\u001b[0mX_train\u001b[0m\u001b[0;34m,\u001b[0m\u001b[0my\u001b[0m\u001b[0;34m=\u001b[0m\u001b[0my_train\u001b[0m\u001b[0;34m,\u001b[0m \u001b[0mepochs\u001b[0m\u001b[0;34m=\u001b[0m\u001b[0;36m100\u001b[0m\u001b[0;34m,\u001b[0m\u001b[0mverbose\u001b[0m\u001b[0;34m=\u001b[0m\u001b[0;36m0\u001b[0m\u001b[0;34m,\u001b[0m\u001b[0mvalidation_split\u001b[0m\u001b[0;34m=\u001b[0m\u001b[0;36m0.25\u001b[0m\u001b[0;34m)\u001b[0m\u001b[0;34m\u001b[0m\u001b[0;34m\u001b[0m\u001b[0m\n\u001b[0m\u001b[1;32m     10\u001b[0m \u001b[0;34m\u001b[0m\u001b[0m\n\u001b[1;32m     11\u001b[0m         \u001b[0;32mfor\u001b[0m \u001b[0mk\u001b[0m\u001b[0;34m,\u001b[0m\u001b[0mj\u001b[0m \u001b[0;32min\u001b[0m \u001b[0mzip\u001b[0m\u001b[0;34m(\u001b[0m\u001b[0mhistory\u001b[0m\u001b[0;34m.\u001b[0m\u001b[0mhistory\u001b[0m\u001b[0;34m[\u001b[0m\u001b[0;34m\"val_loss\"\u001b[0m\u001b[0;34m]\u001b[0m\u001b[0;34m,\u001b[0m \u001b[0mhistory\u001b[0m\u001b[0;34m.\u001b[0m\u001b[0mhistory\u001b[0m\u001b[0;34m[\u001b[0m\u001b[0;34m\"loss\"\u001b[0m\u001b[0;34m]\u001b[0m\u001b[0;34m)\u001b[0m\u001b[0;34m:\u001b[0m\u001b[0;34m\u001b[0m\u001b[0;34m\u001b[0m\u001b[0m\n",
      "\u001b[0;32m~/.local/lib/python3.8/site-packages/tensorflow/python/keras/engine/training.py\u001b[0m in \u001b[0;36m_method_wrapper\u001b[0;34m(self, *args, **kwargs)\u001b[0m\n\u001b[1;32m    106\u001b[0m   \u001b[0;32mdef\u001b[0m \u001b[0m_method_wrapper\u001b[0m\u001b[0;34m(\u001b[0m\u001b[0mself\u001b[0m\u001b[0;34m,\u001b[0m \u001b[0;34m*\u001b[0m\u001b[0margs\u001b[0m\u001b[0;34m,\u001b[0m \u001b[0;34m**\u001b[0m\u001b[0mkwargs\u001b[0m\u001b[0;34m)\u001b[0m\u001b[0;34m:\u001b[0m\u001b[0;34m\u001b[0m\u001b[0;34m\u001b[0m\u001b[0m\n\u001b[1;32m    107\u001b[0m     \u001b[0;32mif\u001b[0m \u001b[0;32mnot\u001b[0m \u001b[0mself\u001b[0m\u001b[0;34m.\u001b[0m\u001b[0m_in_multi_worker_mode\u001b[0m\u001b[0;34m(\u001b[0m\u001b[0;34m)\u001b[0m\u001b[0;34m:\u001b[0m  \u001b[0;31m# pylint: disable=protected-access\u001b[0m\u001b[0;34m\u001b[0m\u001b[0;34m\u001b[0m\u001b[0m\n\u001b[0;32m--> 108\u001b[0;31m       \u001b[0;32mreturn\u001b[0m \u001b[0mmethod\u001b[0m\u001b[0;34m(\u001b[0m\u001b[0mself\u001b[0m\u001b[0;34m,\u001b[0m \u001b[0;34m*\u001b[0m\u001b[0margs\u001b[0m\u001b[0;34m,\u001b[0m \u001b[0;34m**\u001b[0m\u001b[0mkwargs\u001b[0m\u001b[0;34m)\u001b[0m\u001b[0;34m\u001b[0m\u001b[0;34m\u001b[0m\u001b[0m\n\u001b[0m\u001b[1;32m    109\u001b[0m \u001b[0;34m\u001b[0m\u001b[0m\n\u001b[1;32m    110\u001b[0m     \u001b[0;31m# Running inside `run_distribute_coordinator` already.\u001b[0m\u001b[0;34m\u001b[0m\u001b[0;34m\u001b[0m\u001b[0;34m\u001b[0m\u001b[0m\n",
      "\u001b[0;32m~/.local/lib/python3.8/site-packages/tensorflow/python/keras/engine/training.py\u001b[0m in \u001b[0;36mfit\u001b[0;34m(self, x, y, batch_size, epochs, verbose, callbacks, validation_split, validation_data, shuffle, class_weight, sample_weight, initial_epoch, steps_per_epoch, validation_steps, validation_batch_size, validation_freq, max_queue_size, workers, use_multiprocessing)\u001b[0m\n\u001b[1;32m   1121\u001b[0m                 \u001b[0mmodel\u001b[0m\u001b[0;34m=\u001b[0m\u001b[0mself\u001b[0m\u001b[0;34m,\u001b[0m\u001b[0;34m\u001b[0m\u001b[0;34m\u001b[0m\u001b[0m\n\u001b[1;32m   1122\u001b[0m                 steps_per_execution=self._steps_per_execution)\n\u001b[0;32m-> 1123\u001b[0;31m           val_logs = self.evaluate(\n\u001b[0m\u001b[1;32m   1124\u001b[0m               \u001b[0mx\u001b[0m\u001b[0;34m=\u001b[0m\u001b[0mval_x\u001b[0m\u001b[0;34m,\u001b[0m\u001b[0;34m\u001b[0m\u001b[0;34m\u001b[0m\u001b[0m\n\u001b[1;32m   1125\u001b[0m               \u001b[0my\u001b[0m\u001b[0;34m=\u001b[0m\u001b[0mval_y\u001b[0m\u001b[0;34m,\u001b[0m\u001b[0;34m\u001b[0m\u001b[0;34m\u001b[0m\u001b[0m\n",
      "\u001b[0;32m~/.local/lib/python3.8/site-packages/tensorflow/python/keras/engine/training.py\u001b[0m in \u001b[0;36m_method_wrapper\u001b[0;34m(self, *args, **kwargs)\u001b[0m\n\u001b[1;32m    106\u001b[0m   \u001b[0;32mdef\u001b[0m \u001b[0m_method_wrapper\u001b[0m\u001b[0;34m(\u001b[0m\u001b[0mself\u001b[0m\u001b[0;34m,\u001b[0m \u001b[0;34m*\u001b[0m\u001b[0margs\u001b[0m\u001b[0;34m,\u001b[0m \u001b[0;34m**\u001b[0m\u001b[0mkwargs\u001b[0m\u001b[0;34m)\u001b[0m\u001b[0;34m:\u001b[0m\u001b[0;34m\u001b[0m\u001b[0;34m\u001b[0m\u001b[0m\n\u001b[1;32m    107\u001b[0m     \u001b[0;32mif\u001b[0m \u001b[0;32mnot\u001b[0m \u001b[0mself\u001b[0m\u001b[0;34m.\u001b[0m\u001b[0m_in_multi_worker_mode\u001b[0m\u001b[0;34m(\u001b[0m\u001b[0;34m)\u001b[0m\u001b[0;34m:\u001b[0m  \u001b[0;31m# pylint: disable=protected-access\u001b[0m\u001b[0;34m\u001b[0m\u001b[0;34m\u001b[0m\u001b[0m\n\u001b[0;32m--> 108\u001b[0;31m       \u001b[0;32mreturn\u001b[0m \u001b[0mmethod\u001b[0m\u001b[0;34m(\u001b[0m\u001b[0mself\u001b[0m\u001b[0;34m,\u001b[0m \u001b[0;34m*\u001b[0m\u001b[0margs\u001b[0m\u001b[0;34m,\u001b[0m \u001b[0;34m**\u001b[0m\u001b[0mkwargs\u001b[0m\u001b[0;34m)\u001b[0m\u001b[0;34m\u001b[0m\u001b[0;34m\u001b[0m\u001b[0m\n\u001b[0m\u001b[1;32m    109\u001b[0m \u001b[0;34m\u001b[0m\u001b[0m\n\u001b[1;32m    110\u001b[0m     \u001b[0;31m# Running inside `run_distribute_coordinator` already.\u001b[0m\u001b[0;34m\u001b[0m\u001b[0;34m\u001b[0m\u001b[0;34m\u001b[0m\u001b[0m\n",
      "\u001b[0;32m~/.local/lib/python3.8/site-packages/tensorflow/python/keras/engine/training.py\u001b[0m in \u001b[0;36mevaluate\u001b[0;34m(self, x, y, batch_size, verbose, sample_weight, steps, callbacks, max_queue_size, workers, use_multiprocessing, return_dict)\u001b[0m\n\u001b[1;32m   1371\u001b[0m       \u001b[0mself\u001b[0m\u001b[0;34m.\u001b[0m\u001b[0m_test_counter\u001b[0m\u001b[0;34m.\u001b[0m\u001b[0massign\u001b[0m\u001b[0;34m(\u001b[0m\u001b[0;36m0\u001b[0m\u001b[0;34m)\u001b[0m\u001b[0;34m\u001b[0m\u001b[0;34m\u001b[0m\u001b[0m\n\u001b[1;32m   1372\u001b[0m       \u001b[0mcallbacks\u001b[0m\u001b[0;34m.\u001b[0m\u001b[0mon_test_begin\u001b[0m\u001b[0;34m(\u001b[0m\u001b[0;34m)\u001b[0m\u001b[0;34m\u001b[0m\u001b[0;34m\u001b[0m\u001b[0m\n\u001b[0;32m-> 1373\u001b[0;31m       \u001b[0;32mfor\u001b[0m \u001b[0m_\u001b[0m\u001b[0;34m,\u001b[0m \u001b[0miterator\u001b[0m \u001b[0;32min\u001b[0m \u001b[0mdata_handler\u001b[0m\u001b[0;34m.\u001b[0m\u001b[0menumerate_epochs\u001b[0m\u001b[0;34m(\u001b[0m\u001b[0;34m)\u001b[0m\u001b[0;34m:\u001b[0m  \u001b[0;31m# Single epoch.\u001b[0m\u001b[0;34m\u001b[0m\u001b[0;34m\u001b[0m\u001b[0m\n\u001b[0m\u001b[1;32m   1374\u001b[0m         \u001b[0mself\u001b[0m\u001b[0;34m.\u001b[0m\u001b[0mreset_metrics\u001b[0m\u001b[0;34m(\u001b[0m\u001b[0;34m)\u001b[0m\u001b[0;34m\u001b[0m\u001b[0;34m\u001b[0m\u001b[0m\n\u001b[1;32m   1375\u001b[0m         \u001b[0;32mwith\u001b[0m \u001b[0mdata_handler\u001b[0m\u001b[0;34m.\u001b[0m\u001b[0mcatch_stop_iteration\u001b[0m\u001b[0;34m(\u001b[0m\u001b[0;34m)\u001b[0m\u001b[0;34m:\u001b[0m\u001b[0;34m\u001b[0m\u001b[0;34m\u001b[0m\u001b[0m\n",
      "\u001b[0;32m~/.local/lib/python3.8/site-packages/tensorflow/python/keras/engine/data_adapter.py\u001b[0m in \u001b[0;36menumerate_epochs\u001b[0;34m(self)\u001b[0m\n\u001b[1;32m   1136\u001b[0m     \u001b[0;34m\"\"\"Yields `(epoch, tf.data.Iterator)`.\"\"\"\u001b[0m\u001b[0;34m\u001b[0m\u001b[0;34m\u001b[0m\u001b[0m\n\u001b[1;32m   1137\u001b[0m     \u001b[0;32mwith\u001b[0m \u001b[0mself\u001b[0m\u001b[0;34m.\u001b[0m\u001b[0m_truncate_execution_to_epoch\u001b[0m\u001b[0;34m(\u001b[0m\u001b[0;34m)\u001b[0m\u001b[0;34m:\u001b[0m\u001b[0;34m\u001b[0m\u001b[0;34m\u001b[0m\u001b[0m\n\u001b[0;32m-> 1138\u001b[0;31m       \u001b[0mdata_iterator\u001b[0m \u001b[0;34m=\u001b[0m \u001b[0miter\u001b[0m\u001b[0;34m(\u001b[0m\u001b[0mself\u001b[0m\u001b[0;34m.\u001b[0m\u001b[0m_dataset\u001b[0m\u001b[0;34m)\u001b[0m\u001b[0;34m\u001b[0m\u001b[0;34m\u001b[0m\u001b[0m\n\u001b[0m\u001b[1;32m   1139\u001b[0m       \u001b[0;32mfor\u001b[0m \u001b[0mepoch\u001b[0m \u001b[0;32min\u001b[0m \u001b[0mrange\u001b[0m\u001b[0;34m(\u001b[0m\u001b[0mself\u001b[0m\u001b[0;34m.\u001b[0m\u001b[0m_initial_epoch\u001b[0m\u001b[0;34m,\u001b[0m \u001b[0mself\u001b[0m\u001b[0;34m.\u001b[0m\u001b[0m_epochs\u001b[0m\u001b[0;34m)\u001b[0m\u001b[0;34m:\u001b[0m\u001b[0;34m\u001b[0m\u001b[0;34m\u001b[0m\u001b[0m\n\u001b[1;32m   1140\u001b[0m         \u001b[0;32mif\u001b[0m \u001b[0mself\u001b[0m\u001b[0;34m.\u001b[0m\u001b[0m_insufficient_data\u001b[0m\u001b[0;34m:\u001b[0m  \u001b[0;31m# Set by `catch_stop_iteration`.\u001b[0m\u001b[0;34m\u001b[0m\u001b[0;34m\u001b[0m\u001b[0m\n",
      "\u001b[0;32m~/.local/lib/python3.8/site-packages/tensorflow/python/data/ops/dataset_ops.py\u001b[0m in \u001b[0;36m__iter__\u001b[0;34m(self)\u001b[0m\n\u001b[1;32m    413\u001b[0m     \"\"\"\n\u001b[1;32m    414\u001b[0m     \u001b[0;32mif\u001b[0m \u001b[0mcontext\u001b[0m\u001b[0;34m.\u001b[0m\u001b[0mexecuting_eagerly\u001b[0m\u001b[0;34m(\u001b[0m\u001b[0;34m)\u001b[0m \u001b[0;32mor\u001b[0m \u001b[0mops\u001b[0m\u001b[0;34m.\u001b[0m\u001b[0minside_function\u001b[0m\u001b[0;34m(\u001b[0m\u001b[0;34m)\u001b[0m\u001b[0;34m:\u001b[0m\u001b[0;34m\u001b[0m\u001b[0;34m\u001b[0m\u001b[0m\n\u001b[0;32m--> 415\u001b[0;31m       \u001b[0;32mreturn\u001b[0m \u001b[0miterator_ops\u001b[0m\u001b[0;34m.\u001b[0m\u001b[0mOwnedIterator\u001b[0m\u001b[0;34m(\u001b[0m\u001b[0mself\u001b[0m\u001b[0;34m)\u001b[0m\u001b[0;34m\u001b[0m\u001b[0;34m\u001b[0m\u001b[0m\n\u001b[0m\u001b[1;32m    416\u001b[0m     \u001b[0;32melse\u001b[0m\u001b[0;34m:\u001b[0m\u001b[0;34m\u001b[0m\u001b[0;34m\u001b[0m\u001b[0m\n\u001b[1;32m    417\u001b[0m       raise RuntimeError(\"__iter__() is only supported inside of tf.function \"\n",
      "\u001b[0;32m~/.local/lib/python3.8/site-packages/tensorflow/python/data/ops/iterator_ops.py\u001b[0m in \u001b[0;36m__init__\u001b[0;34m(self, dataset, components, element_spec, job_token)\u001b[0m\n\u001b[1;32m    694\u001b[0m           context.context().device_spec.device_type != \"CPU\"):\n\u001b[1;32m    695\u001b[0m         \u001b[0;32mwith\u001b[0m \u001b[0mops\u001b[0m\u001b[0;34m.\u001b[0m\u001b[0mdevice\u001b[0m\u001b[0;34m(\u001b[0m\u001b[0;34m\"/cpu:0\"\u001b[0m\u001b[0;34m)\u001b[0m\u001b[0;34m:\u001b[0m\u001b[0;34m\u001b[0m\u001b[0;34m\u001b[0m\u001b[0m\n\u001b[0;32m--> 696\u001b[0;31m           \u001b[0mself\u001b[0m\u001b[0;34m.\u001b[0m\u001b[0m_create_iterator\u001b[0m\u001b[0;34m(\u001b[0m\u001b[0mdataset\u001b[0m\u001b[0;34m)\u001b[0m\u001b[0;34m\u001b[0m\u001b[0;34m\u001b[0m\u001b[0m\n\u001b[0m\u001b[1;32m    697\u001b[0m       \u001b[0;32melse\u001b[0m\u001b[0;34m:\u001b[0m\u001b[0;34m\u001b[0m\u001b[0;34m\u001b[0m\u001b[0m\n\u001b[1;32m    698\u001b[0m         \u001b[0mself\u001b[0m\u001b[0;34m.\u001b[0m\u001b[0m_create_iterator\u001b[0m\u001b[0;34m(\u001b[0m\u001b[0mdataset\u001b[0m\u001b[0;34m)\u001b[0m\u001b[0;34m\u001b[0m\u001b[0;34m\u001b[0m\u001b[0m\n",
      "\u001b[0;32m~/.local/lib/python3.8/site-packages/tensorflow/python/data/ops/iterator_ops.py\u001b[0m in \u001b[0;36m_create_iterator\u001b[0;34m(self, dataset)\u001b[0m\n\u001b[1;32m    720\u001b[0m               output_shapes=self._flat_output_shapes))\n\u001b[1;32m    721\u001b[0m       \u001b[0;32mif\u001b[0m \u001b[0mself\u001b[0m\u001b[0;34m.\u001b[0m\u001b[0m_job_token\u001b[0m \u001b[0;32mis\u001b[0m \u001b[0;32mNone\u001b[0m\u001b[0;34m:\u001b[0m\u001b[0;34m\u001b[0m\u001b[0;34m\u001b[0m\u001b[0m\n\u001b[0;32m--> 722\u001b[0;31m         \u001b[0mgen_dataset_ops\u001b[0m\u001b[0;34m.\u001b[0m\u001b[0mmake_iterator\u001b[0m\u001b[0;34m(\u001b[0m\u001b[0mds_variant\u001b[0m\u001b[0;34m,\u001b[0m \u001b[0mself\u001b[0m\u001b[0;34m.\u001b[0m\u001b[0m_iterator_resource\u001b[0m\u001b[0;34m)\u001b[0m\u001b[0;34m\u001b[0m\u001b[0;34m\u001b[0m\u001b[0m\n\u001b[0m\u001b[1;32m    723\u001b[0m       \u001b[0;32melse\u001b[0m\u001b[0;34m:\u001b[0m\u001b[0;34m\u001b[0m\u001b[0;34m\u001b[0m\u001b[0m\n\u001b[1;32m    724\u001b[0m         gen_experimental_dataset_ops.make_data_service_iterator(\n",
      "\u001b[0;32m~/.local/lib/python3.8/site-packages/tensorflow/python/ops/gen_dataset_ops.py\u001b[0m in \u001b[0;36mmake_iterator\u001b[0;34m(dataset, iterator, name)\u001b[0m\n\u001b[1;32m   3003\u001b[0m   \u001b[0;32mif\u001b[0m \u001b[0mtld\u001b[0m\u001b[0;34m.\u001b[0m\u001b[0mis_eager\u001b[0m\u001b[0;34m:\u001b[0m\u001b[0;34m\u001b[0m\u001b[0;34m\u001b[0m\u001b[0m\n\u001b[1;32m   3004\u001b[0m     \u001b[0;32mtry\u001b[0m\u001b[0;34m:\u001b[0m\u001b[0;34m\u001b[0m\u001b[0;34m\u001b[0m\u001b[0m\n\u001b[0;32m-> 3005\u001b[0;31m       _result = pywrap_tfe.TFE_Py_FastPathExecute(\n\u001b[0m\u001b[1;32m   3006\u001b[0m         \u001b[0m_ctx\u001b[0m\u001b[0;34m.\u001b[0m\u001b[0m_context_handle\u001b[0m\u001b[0;34m,\u001b[0m \u001b[0mtld\u001b[0m\u001b[0;34m.\u001b[0m\u001b[0mdevice_name\u001b[0m\u001b[0;34m,\u001b[0m \u001b[0;34m\"MakeIterator\"\u001b[0m\u001b[0;34m,\u001b[0m \u001b[0mname\u001b[0m\u001b[0;34m,\u001b[0m\u001b[0;34m\u001b[0m\u001b[0;34m\u001b[0m\u001b[0m\n\u001b[1;32m   3007\u001b[0m         tld.op_callbacks, dataset, iterator)\n",
      "\u001b[0;31mKeyboardInterrupt\u001b[0m: "
     ]
    }
   ],
   "source": [
    "individuals = []\n",
    "for i in range(no_of_individuals):\n",
    "    individuals.append(random.sample(full, snps_num))\n",
    "    \n",
    "# control loop\n",
    "size = 32\n",
    "model = load_model(size, snps_num)\n",
    "Wsave = model.get_weights()\n",
    "best = []\n",
    "best_fitness = 10\n",
    "best_generation = 0\n",
    "\n",
    "for generation in range(no_of_generations):\n",
    "    \n",
    "    individuals, fitness = train(individuals)\n",
    "    print(fitness)\n",
    "    \n",
    "    if best_fitness >= min(fitness):\n",
    "        best.append(individuals[fitness.index(min(fitness))])\n",
    "        best_fitness = min(fitness)\n",
    "        best_generation = generation+1\n",
    "        \n",
    "    if generation == no_of_generations -1:\n",
    "        break       \n",
    "    individuals = evolve(individuals, fitness)"
   ]
  },
  {
   "cell_type": "code",
   "execution_count": 11,
   "metadata": {
    "scrolled": true
   },
   "outputs": [
    {
     "name": "stdout",
     "output_type": "stream",
     "text": [
      "[['rs3771485', 'rs3821272', 'rs195291', 'rs4464513', 'rs481931', 'rs3917211', 'rs17104939', 'rs11156925', 'rs599021', 'rs2013162', 'rs2284791', 'rs931953', 'rs4252328', 'rs7129848', 'rs15251', 'rs2274976'], ['rs3771485', 'rs3821272', 'rs195291', 'rs4464513', 'rs481931', 'rs3917211', 'rs17104939', 'rs11156925', 'rs599021', 'rs2013162', 'rs2284791', 'rs931953', 'rs4252328', 'rs7129848', 'rs15251', 'rs2274976'], ['rs3771485', 'rs3821272', 'rs195291', 'rs4464513', 'rs481931', 'rs3917211', 'rs17104939', 'rs11156925', 'rs599021', 'rs2013162', 'rs2284791', 'rs931953', 'rs4252328', 'rs7129848', 'rs15251', 'rs2274976'], ['rs3771485', 'rs1537514', 'rs2235371', 'rs4252328', 'rs7129848', 'rs1044516', 'rs4464513', 'rs11796677', 'rs2819861', 'rs1934328', 'rs3821949', 'rs16827741', 'rs17317411', 'rs1801133', 'rs481931', 'rs11796677'], ['rs3771485', 'rs2235371', 'rs2013162', 'rs4252328', 'rs7129848', 'rs7940667', 'rs4464513', 'rs16873348', 'rs2819861', 'rs1934328', 'rs2284791', 'rs16827741', 'rs17317411', 'rs6029273', 'rs481931', 'rs11796677']]\n",
      "0.1443\n",
      "14\n",
      "[['rs17104944', 'rs1537514', 'rs2013162', 'rs4252328', 'rs906830', 'rs7940667', 'rs4464513', 'rs16873348', 'rs15251', 'rs1934328', 'rs2284791', 'rs599021', 'rs11204737', 'rs6029273', 'rs481931', 'rs11796677'], ['rs2255796', 'rs17104944', 'rs2235375', 'rs8100239', 'rs12532', 'rs7940667', 'rs4464513', 'rs906830', 'rs17015218', 'rs1934328', 'rs3737967', 'rs2295221', 'rs11204737', 'rs1801133', 'rs16827741', 'rs11796677'], ['rs3771485', 'rs1139', 'rs3753582', 'rs906830', 'rs7129848', 'rs7940667', 'rs4409845', 'rs17104965', 'rs2819861', 'rs1934328', 'rs3737967', 'rs2228099', 'rs10892434', 'rs13041247', 'rs481931', 'rs7517566'], ['rs2255796', 'rs698', 'rs2235375', 'rs8100239', 'rs2715553', 'rs7940667', 'rs4464513', 'rs987525', 'rs17015218', 'rs11466212', 'rs17104928', 'rs16827741', 'rs17317411', 'rs1801133', 'rs481931', 'rs7517566'], ['rs8100239', 'rs2235371', 'rs2235375', 'rs4252328', 'rs12532', 'rs7940667', 'rs4464513', 'rs2235373', 'rs3935406', 'rs11466212', 'rs2284791', 'rs599021', 'rs17317411', 'rs3771475', 'rs481931', 'rs11796677'], ['rs1693482', 'rs17104944', 'rs2013162', 'rs906830', 'rs2715553', 'rs7940667', 'rs4464513', 'rs13041247', 'rs2819861', 'rs1934328', 'rs17104928', 'rs599021', 'rs17317411', 'rs1801133', 'rs481931', 'rs11796677'], ['rs1693482', 'rs17104944', 'rs2013162', 'rs4252328', 'rs2715553', 'rs7940667', 'rs7142363', 'rs3917211', 'rs17015218', 'rs1934328', 'rs3737967', 'rs599021', 'rs17317411', 'rs3771475', 'rs481931', 'rs13041247'], ['rs8100239', 'rs1429591', 'rs2013162', 'rs4252328', 'rs7129848', 'rs7940667', 'rs4464513', 'rs987525', 'rs3935406', 'rs1934328', 'rs2295221', 'rs599021', 'rs17317411', 'rs3771475', 'rs481931', 'rs11796677'], ['rs1693482', 'rs1429591', 'rs2013162', 'rs4252328', 'rs7129848', 'rs906830', 'rs4464513', 'rs3917211', 'rs15251', 'rs1934328', 'rs17104928', 'rs3821272', 'rs4147871', 'rs195291', 'rs481931', 'rs11796677'], ['rs1693482', 'rs17104944', 'rs2073247', 'rs3771498', 'rs12532', 'rs7940667', 'rs4464513', 'rs987525', 'rs3935406', 'rs3821949', 'rs2295221', 'rs2228099', 'rs17317411', 'rs1801133', 'rs481931', 'rs11796677'], ['rs1693482', 'rs1429591', 'rs2073247', 'rs4252328', 'rs2819861', 'rs7940667', 'rs4464513', 'rs987525', 'rs3935406', 'rs1934328', 'rs17104928', 'rs2228099', 'rs17317411', 'rs6029273', 'rs481931', 'rs11796677'], ['rs1693482', 'rs1429591', 'rs9651118', 'rs4252328', 'rs15251', 'rs7940667', 'rs7142363', 'rs3917211', 'rs2819861', 'rs1934328', 'rs3737967', 'rs2228099', 'rs17317411', 'rs195291', 'rs481931', 'rs11796677'], ['rs8100239', 'rs1429591', 'rs2013162', 'rs7217852', 'rs2819861', 'rs7940667', 'rs4409845', 'rs13041247', 'rs17015218', 'rs11466212', 'rs2295221', 'rs599021', 'rs10892434', 'rs3771475', 'rs481931', 'rs11796677'], ['rs1693482', 'rs17104944', 'rs2013162', 'rs906830', 'rs7129848', 'rs7940667', 'rs4409845', 'rs17104965', 'rs2819861', 'rs1934328', 'rs3737967', 'rs599021', 'rs17317411', 'rs13041247', 'rs11156925', 'rs11796677'], ['rs2255796', 'rs17104944', 'rs2235375', 'rs4252328', 'rs2715553', 'rs7940667', 'rs7142363', 'rs906830', 'rs17015218', 'rs1934328', 'rs3737967', 'rs2295221', 'rs17104939', 'rs1801133', 'rs1884213', 'rs11796677'], ['rs17104944', 'rs698', 'rs12532', 'rs7217852', 'rs7129848', 'rs7940667', 'rs4464513', 'rs987525', 'rs17015218', 'rs11466212', 'rs2295221', 'rs599021', 'rs10892434', 'rs3771475', 'rs2255796', 'rs7517566'], ['rs17104944', 'rs698', 'rs2073247', 'rs8100239', 'rs12532', 'rs7940667', 'rs4464513', 'rs987525', 'rs17015218', 'rs11466212', 'rs6029273', 'rs7103685', 'rs17317411', 'rs3771475', 'rs481931', 'rs11796677'], ['rs2255796', 'rs698', 'rs2235375', 'rs8100239', 'rs2715553', 'rs7940667', 'rs4464513', 'rs987525', 'rs17015218', 'rs11466212', 'rs2284791', 'rs3821272', 'rs17317411', 'rs1801133', 'rs16827741', 'rs11796677'], ['rs8100239', 'rs3768012', 'rs2073247', 'rs4252328', 'rs906830', 'rs7940667', 'rs4464513', 'rs987525', 'rs3935406', 'rs1934328', 'rs2295221', 'rs2228099', 'rs17317411', 'rs6029273', 'rs481931', 'rs7517566'], ['rs1693482', 'rs17104944', 'rs2073247', 'rs4252328', 'rs7129848', 'rs7940667', 'rs4464513', 'rs987525', 'rs17015218', 'rs11466212', 'rs2295221', 'rs2228099', 'rs10892434', 'rs6029273', 'rs481931', 'rs11796677'], ['rs1693482', 'rs17104944', 'rs2235375', 'rs906830', 'rs12532', 'rs7940667', 'rs4464513', 'rs13041247', 'rs2819861', 'rs1934328', 'rs3737967', 'rs599021', 'rs11204737', 'rs1801133', 'rs8100239', 'rs11796677'], ['rs8100239', 'rs2235371', 'rs2235375', 'rs4252328', 'rs906830', 'rs7940667', 'rs4464513', 'rs2235373', 'rs15251', 'rs1934328', 'rs2284791', 'rs11204737', 'rs17317411', 'rs6029273', 'rs481931', 'rs11796677'], ['rs3771485', 'rs1537514', 'rs2013162', 'rs906830', 'rs7129848', 'rs7940667', 'rs4409845', 'rs17104965', 'rs2819861', 'rs1934328', 'rs3737967', 'rs599021', 'rs7217852', 'rs13041247', 'rs481931', 'rs7517566'], ['rs1693482', 'rs698', 'rs2013162', 'rs765871', 'rs906830', 'rs7940667', 'rs4464513', 'rs11796677', 'rs2819861', 'rs1934328', 'rs2284791', 'rs599021', 'rs1884213', 'rs3771475', 'rs481931', 'rs7517566'], ['rs1693482', 'rs1537514', 'rs2013162', 'rs4252328', 'rs2819861', 'rs7940667', 'rs4464513', 'rs11796677', 'rs15251', 'rs4147871', 'rs2284791', 'rs3771485', 'rs11204737', 'rs1801133', 'rs481931', 'rs7517566'], ['rs8100239', 'rs2235371', 'rs2235375', 'rs906830', 'rs12532', 'rs7940667', 'rs4464513', 'rs2235373', 'rs3935406', 'rs1934328', 'rs3737967', 'rs599021', 'rs10892434', 'rs13041247', 'rs481931', 'rs11796677'], ['rs1693482', 'rs1429591', 'rs2235375', 'rs4252328', 'rs7129848', 'rs7940667', 'rs4464513', 'rs13041247', 'rs17015218', 'rs3821949', 'rs2295221', 'rs2228099', 'rs17317411', 'rs6029273', 'rs481931', 'rs7517566'], ['rs1693482', 'rs698', 'rs2073247', 'rs16873348', 'rs12532', 'rs7940667', 'rs4464513', 'rs11796677', 'rs3771497', 'rs3821949', 'rs2284791', 'rs2228099', 'rs17317411', 'rs3771475', 'rs481931', 'rs7517566'], ['rs1044516', 'rs3821949', 'rs2013162', 'rs906830', 'rs2136421', 'rs2284791', 'rs4464513', 'rs1209169', 'rs2819861', 'rs1934328', 'rs3737967', 'rs3821272', 'rs17317411', 'rs6621539', 'rs481931', 'rs11796677'], ['rs1693482', 'rs1429591', 'rs2013162', 'rs4252328', 'rs7129848', 'rs7940667', 'rs4464513', 'rs7713638', 'rs9890413', 'rs1934328', 'rs2284791', 'rs599021', 'rs17317411', 'rs3771475', 'rs481931', 'rs11796677']]\n"
     ]
    }
   ],
   "source": [
    "print(best)\n",
    "print(best_fitness)\n",
    "print(best_generation)\n",
    "print(individuals)"
   ]
  }
 ],
 "metadata": {
  "kernelspec": {
   "display_name": "Python 3 (ipykernel)",
   "language": "python",
   "name": "python3"
  },
  "language_info": {
   "codemirror_mode": {
    "name": "ipython",
    "version": 3
   },
   "file_extension": ".py",
   "mimetype": "text/x-python",
   "name": "python",
   "nbconvert_exporter": "python",
   "pygments_lexer": "ipython3",
   "version": "3.8.10"
  }
 },
 "nbformat": 4,
 "nbformat_minor": 4
}
