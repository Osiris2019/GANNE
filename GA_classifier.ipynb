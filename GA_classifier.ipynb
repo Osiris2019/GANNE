{
 "cells": [
  {
   "cell_type": "code",
   "execution_count": null,
   "metadata": {},
   "outputs": [],
   "source": [
    "from keras.models import Model, Sequential\n",
    "from keras.layers import Input, Dense, Convolution2D, Flatten, Dropout,GlobalAveragePooling2D\n",
    "from keras import backend as K\n",
    "from keras.callbacks import EarlyStopping\n",
    "from keras import models\n",
    "from keras import layers\n",
    "from keras import optimizers\n",
    "from keras import metrics\n",
    "from keras.applications.inception_resnet_v2 import preprocess_input\n",
    "from attention import AttentionLayer\n",
    "from sklearn.metrics import roc_auc_score\n",
    "import os\n",
    "import pandas as pd\n",
    "#import keras\n",
    "import numpy as np\n",
    "import random\n",
    "\n",
    "import warnings\n",
    "warnings.filterwarnings('ignore')"
   ]
  },
  {
   "cell_type": "code",
   "execution_count": null,
   "metadata": {},
   "outputs": [],
   "source": [
    "import warnings\n",
    "warnings.filterwarnings('ignore')\n",
    "\n",
    "import tensorflow as tf\n",
    "gpus = tf.config.experimental.list_physical_devices('GPU')\n",
    "if gpus:\n",
    "    try:\n",
    "        for gpu in gpus:\n",
    "            tf.config.experimental.set_memory_growth(gpu, True)\n",
    "\n",
    "    except RuntimeError as e:\n",
    "        print(e)"
   ]
  },
  {
   "cell_type": "code",
   "execution_count": null,
   "metadata": {},
   "outputs": [],
   "source": [
    "datadir = \"./data/akac_gen.txt\"\n",
    "dataset = pd.read_csv(datadir, delimiter =\"\\t\", header = 0)\n",
    "#print(list(dataset.columns))\n",
    "dataset = dataset.sample(frac=1, random_state=777)  # row 전체 shuffle\n",
    "\n",
    "SNPs = ['rs2235373','rs16873348','rs2284791','rs2013162','rs595918','rs3753582','rs2235375','rs1044516','rs11204737','rs1044516','rs7715100','rs3917192','rs2235371']\n",
    "full = list(dataset.columns)\n",
    "del full[0:6]\n",
    "print(full)\n",
    "snps = ['rs11204737', 'rs2255796', 'rs2235373','rs16873348','rs2013162', 'rs1139','rs2284791','rs595918','rs3753582']\n",
    "#\n",
    "#['rs2235373','rs16873348','rs2284791','rs2013162','rs595918','rs3753582']\n",
    "#dataset.head()"
   ]
  },
  {
   "cell_type": "code",
   "execution_count": null,
   "metadata": {},
   "outputs": [],
   "source": [
    "dataset.shape\n",
    "y_train = pd.to_numeric(dataset['affected']) -1\n",
    "X_train = dataset[snps]\n",
    "x_train_np = np.array(X_train).astype(\"float\")\n",
    "y_train_np = np.array(y_train)\n",
    "input_dim = X_train.shape[1]\n",
    "print(x_train_np.shape)"
   ]
  },
  {
   "cell_type": "code",
   "execution_count": null,
   "metadata": {},
   "outputs": [],
   "source": [
    "snps_num = 10\n",
    "no_of_generations = 30\n",
    "no_of_individuals = 18\n",
    "mutate_factor = 0.02"
   ]
  },
  {
   "cell_type": "code",
   "execution_count": null,
   "metadata": {},
   "outputs": [],
   "source": [
    "def mutate(new_individual):\n",
    "    genes = []\n",
    "    leftover = [v for v in full if v not in new_individual]\n",
    "    for gene in new_individual:\n",
    "        n = random.random()\n",
    "        if(n < mutate_factor):\n",
    "            k = random.randrange(len(leftover))\n",
    "            genes.append(leftover[k])\n",
    "            del leftover[k]\n",
    "        else:\n",
    "            genes.append(gene)  \n",
    "    return genes\n",
    "\n",
    "def crossover(individuals):\n",
    "    new_individuals = []\n",
    "    elite = 6\n",
    "    for i in range(elite):\n",
    "        new_individuals.append(individuals[i])\n",
    "    #엘리트 살아남음\n",
    "\n",
    "    for i in range(elite, no_of_individuals):\n",
    "        new_individual = []\n",
    "        #if(i < (no_of_individuals - 2)):\n",
    "        if(i == 2):\n",
    "            parentA = random.choice(individuals[:3])\n",
    "            parentB = random.choice(individuals[:3])\n",
    "        else:\n",
    "            parentA = random.choice(individuals[:])\n",
    "            parentB = random.choice(individuals[:])\n",
    "        #아래에서 유전자 반반씩 나눠 줌\n",
    "        for i in range(len(parentA)):\n",
    "            n = random.random()\n",
    "            if(n< 0.5):\n",
    "                if parentA[i] in new_individual:\n",
    "                    new_individual.append(parentB[i])\n",
    "                else:\n",
    "                    new_individual.append(parentA[i])\n",
    "            else:\n",
    "                if parentB[i] in new_individual:\n",
    "                    new_individual.append(parentA[i])\n",
    "                else:\n",
    "                    new_individual.append(parentB[i])\n",
    "        #else:\n",
    "        #    new_individual = random.choice(individuals[:])\n",
    "\n",
    "        new_individuals.append(mutate(new_individual))\n",
    "        #new_individuals.append(new_individual)\n",
    "\n",
    "    return new_individuals\n",
    "\n",
    "def evolve(individuals, fitness):\n",
    "  \n",
    "    sorted_y_idx_list = sorted(range(len(fitness)),key=lambda x:fitness[x])\n",
    "    individuals = [individuals[i] for i in sorted_y_idx_list ]\n",
    "    fitness = [fitness[i] for i in sorted_y_idx_list ]\n",
    "    print(fitness)\n",
    "    #individuals.reverse()\n",
    "\n",
    "    new_individuals = crossover(individuals)\n",
    "\n",
    "    return new_individuals"
   ]
  },
  {
   "cell_type": "code",
   "execution_count": null,
   "metadata": {},
   "outputs": [],
   "source": [
    "def load_model(size, input_dim):\n",
    "    model = Sequential()\n",
    "    model.add(Dense(size,input_dim = input_dim,activation='relu'))\n",
    "    model.add(Dense(size*2,input_dim = input_dim,activation='relu'))\n",
    "    #model.add(Dropout(0.2))\n",
    "    model.add(Dense(size*2,input_dim = size,activation='relu'))\n",
    "    model.add(Dense(1,input_dim = size,activation='sigmoid', name='lastfc'))\n",
    "    opt = optimizers.Adam(lr=5e-3,decay=1e-5)\n",
    "    model.compile(loss='mse', optimizer=opt, metrics=[\"accuracy\"])\n",
    "    \n",
    "    return model"
   ]
  },
  {
   "cell_type": "code",
   "execution_count": null,
   "metadata": {},
   "outputs": [],
   "source": [
    "def train(individuals):\n",
    "    fitness = []\n",
    "    fitness_a = []\n",
    "    for i in range(len(individuals)):\n",
    "        model.set_weights(Wsave)\n",
    "        X_train = dataset[individuals[i]]\n",
    "        x_train_np = np.array(X_train).astype(\"float\")\n",
    "        \n",
    "        history = model.fit(x=X_train,y=y_train, epochs=80,verbose=0,validation_split=0.25)\n",
    "        \n",
    "        for k,j in zip(history.history[\"val_loss\"], history.history[\"loss\"]):\n",
    "            fitness_a.append((k+j)/2)  \n",
    "        fitness.append(round(min(fitness_a), 4))\n",
    "        \n",
    "    return individuals, fitness"
   ]
  },
  {
   "cell_type": "code",
   "execution_count": null,
   "metadata": {
    "scrolled": true
   },
   "outputs": [],
   "source": [
    "individuals = []\n",
    "for i in range(no_of_individuals):\n",
    "    individuals.append(random.sample(SNPs, snps_num))\n",
    "    \n",
    "# control loop\n",
    "size = 16\n",
    "model = load_model(size, snps_num)\n",
    "Wsave = model.get_weights()\n",
    "best = []\n",
    "best_fitness = 10\n",
    "best_generation = 0\n",
    "\n",
    "for generation in range(no_of_generations):\n",
    "    \n",
    "    individuals, fitness = train(individuals)\n",
    "    print(fitness)\n",
    "    \n",
    "    if best_fitness >= min(fitness):\n",
    "        best = individuals[fitness.index(min(fitness))]\n",
    "        best_fitness = min(fitness)\n",
    "        best_generation = generation+1\n",
    "        \n",
    "    if generation == no_of_generations -1:\n",
    "        break       \n",
    "    individuals = evolve(individuals, fitness)"
   ]
  },
  {
   "cell_type": "code",
   "execution_count": null,
   "metadata": {},
   "outputs": [],
   "source": [
    "print(best)\n",
    "print(best_fitness)\n",
    "print(best_generation)\n",
    "print(individuals)"
   ]
  },
  {
   "cell_type": "code",
   "execution_count": null,
   "metadata": {},
   "outputs": [],
   "source": [
    "test_loss, test_acc = model.evaluate(x_train_np, y_train_np, batch_size=20, verbose=2)\n",
    "predict_test = model.predict(x_train_np, batch_size=20)\n",
    "\n",
    "print(roc_auc_score(y_train_np, predict_test))\n",
    "\n",
    "plotResults(history)\n",
    "\n",
    "from sklearn.metrics import roc_curve, auc\n",
    "nn_fpr_keras, nn_tpr_keras, nn_thresholds_keras = roc_curve(y_train_np, predict_test)\n",
    "auc_keras = auc(nn_fpr_keras, nn_tpr_keras)\n",
    "plt.plot(nn_fpr_keras, nn_tpr_keras, marker='.', label='Neural Network (auc = %0.3f)' % auc_keras)"
   ]
  },
  {
   "cell_type": "code",
   "execution_count": null,
   "metadata": {},
   "outputs": [],
   "source": []
  }
 ],
 "metadata": {
  "kernelspec": {
   "display_name": "Python 3 (ipykernel)",
   "language": "python",
   "name": "python3"
  },
  "language_info": {
   "codemirror_mode": {
    "name": "ipython",
    "version": 3
   },
   "file_extension": ".py",
   "mimetype": "text/x-python",
   "name": "python",
   "nbconvert_exporter": "python",
   "pygments_lexer": "ipython3",
   "version": "3.8.10"
  }
 },
 "nbformat": 4,
 "nbformat_minor": 4
}
