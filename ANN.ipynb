{
 "cells": [
  {
   "cell_type": "code",
   "execution_count": 1,
   "metadata": {},
   "outputs": [
    {
     "name": "stderr",
     "output_type": "stream",
     "text": [
      "2022-06-27 00:05:17.701593: I tensorflow/stream_executor/platform/default/dso_loader.cc:48] Successfully opened dynamic library libcudart.so.10.1\n"
     ]
    }
   ],
   "source": [
    "from keras.models import Model, Sequential\n",
    "from keras.layers import Input, Dense, Convolution2D, Flatten, Dropout,GlobalAveragePooling2D\n",
    "from keras import backend as K\n",
    "from keras.callbacks import EarlyStopping, ModelCheckpoint\n",
    "from keras import models,optimizers\n",
    "from keras import layers\n",
    "from tensorflow import keras\n",
    "from keras import metrics\n",
    "from keras.applications.inception_resnet_v2 import preprocess_input\n",
    "from attention import AttentionLayer\n",
    "from sklearn.metrics import roc_auc_score\n",
    "import os\n",
    "import pandas as pd\n",
    "#import keras\n",
    "import numpy as np\n",
    "import warnings\n",
    "warnings.filterwarnings('ignore')"
   ]
  },
  {
   "cell_type": "code",
   "execution_count": 2,
   "metadata": {},
   "outputs": [
    {
     "name": "stderr",
     "output_type": "stream",
     "text": [
      "2022-06-27 00:05:19.652423: I tensorflow/stream_executor/platform/default/dso_loader.cc:48] Successfully opened dynamic library libcuda.so.1\n",
      "2022-06-27 00:05:19.712426: I tensorflow/stream_executor/cuda/cuda_gpu_executor.cc:982] successful NUMA node read from SysFS had negative value (-1), but there must be at least one NUMA node, so returning NUMA node zero\n",
      "2022-06-27 00:05:19.713154: I tensorflow/core/common_runtime/gpu/gpu_device.cc:1716] Found device 0 with properties: \n",
      "pciBusID: 0000:24:00.0 name: NVIDIA GeForce GTX 1080 computeCapability: 6.1\n",
      "coreClock: 1.86GHz coreCount: 20 deviceMemorySize: 7.93GiB deviceMemoryBandwidth: 298.32GiB/s\n",
      "2022-06-27 00:05:19.713184: I tensorflow/stream_executor/platform/default/dso_loader.cc:48] Successfully opened dynamic library libcudart.so.10.1\n",
      "2022-06-27 00:05:19.745030: I tensorflow/stream_executor/platform/default/dso_loader.cc:48] Successfully opened dynamic library libcublas.so.10\n",
      "2022-06-27 00:05:19.763120: I tensorflow/stream_executor/platform/default/dso_loader.cc:48] Successfully opened dynamic library libcufft.so.10\n",
      "2022-06-27 00:05:19.767311: I tensorflow/stream_executor/platform/default/dso_loader.cc:48] Successfully opened dynamic library libcurand.so.10\n",
      "2022-06-27 00:05:19.800028: I tensorflow/stream_executor/platform/default/dso_loader.cc:48] Successfully opened dynamic library libcusolver.so.10\n",
      "2022-06-27 00:05:19.804740: I tensorflow/stream_executor/platform/default/dso_loader.cc:48] Successfully opened dynamic library libcusparse.so.10\n",
      "2022-06-27 00:05:19.862447: I tensorflow/stream_executor/platform/default/dso_loader.cc:48] Successfully opened dynamic library libcudnn.so.7\n",
      "2022-06-27 00:05:19.862672: I tensorflow/stream_executor/cuda/cuda_gpu_executor.cc:982] successful NUMA node read from SysFS had negative value (-1), but there must be at least one NUMA node, so returning NUMA node zero\n",
      "2022-06-27 00:05:19.863595: I tensorflow/stream_executor/cuda/cuda_gpu_executor.cc:982] successful NUMA node read from SysFS had negative value (-1), but there must be at least one NUMA node, so returning NUMA node zero\n",
      "2022-06-27 00:05:19.864299: I tensorflow/core/common_runtime/gpu/gpu_device.cc:1858] Adding visible gpu devices: 0\n"
     ]
    }
   ],
   "source": [
    "import warnings\n",
    "warnings.filterwarnings('ignore')\n",
    "\n",
    "import tensorflow as tf\n",
    "gpus = tf.config.experimental.list_physical_devices('GPU')\n",
    "if gpus:\n",
    "    try:\n",
    "        for gpu in gpus:\n",
    "            tf.config.experimental.set_memory_growth(gpu, True)\n",
    "\n",
    "    except RuntimeError as e:\n",
    "        print(e)"
   ]
  },
  {
   "cell_type": "code",
   "execution_count": 3,
   "metadata": {},
   "outputs": [],
   "source": [
    "def plotResults(history):\n",
    "        \n",
    "    # Accuracy\n",
    "    plt.plot(history.history[\"accuracy\"])\n",
    "    plt.plot(history.history['val_accuracy'])\n",
    "    plt.title('Model accuracy')\n",
    "    plt.ylabel('Accuracy')\n",
    "    plt.xlabel('Epoch')\n",
    "    plt.legend(['train', 'test'], loc='upper left')\n",
    "    #plt.savefig('images/accuracy.png')\n",
    "    plt.show()\n",
    "    plt.close()\n",
    "    \n",
    "    # Loss\n",
    "    plt.plot(history.history['loss'])\n",
    "    plt.plot(history.history['val_loss'])\n",
    "    plt.title('Model loss')\n",
    "    plt.ylabel('loss')\n",
    "    plt.xlabel('Epoch')\n",
    "    plt.legend(['train', 'test'], loc='upper left')\n",
    "    #plt.savefig('images/loss.png')\n",
    "    plt.show()\n",
    "    plt.close()"
   ]
  },
  {
   "cell_type": "code",
   "execution_count": 4,
   "metadata": {},
   "outputs": [],
   "source": [
    "datadir = \"./data/akac_gen.txt\""
   ]
  },
  {
   "cell_type": "code",
   "execution_count": 26,
   "metadata": {},
   "outputs": [
    {
     "name": "stdout",
     "output_type": "stream",
     "text": [
      "['famid', 'pid', 'fatid', 'motid', 'sex', 'affected', 'rs3737967', 'rs1537514', 'rs2274976', 'rs1801131', 'rs1801133', 'rs9651118', 'rs3753582', 'rs4147871', 'rs560426', 'rs1209169', 'rs481931', 'rs12089548', 'rs16827741', 'rs2228099', 'rs11204737', 'rs3768012', 'rs7517566', 'rs1044516', 'rs599021', 'rs17317411', 'rs2235373', 'rs2235371', 'rs2235375', 'rs595918', 'rs17015218', 'rs2013162', 'rs3821272', 'rs930655', 'rs3732247', 'rs765871', 'rs3771498', 'rs3771497', 'rs3755377', 'rs3771485', 'rs11466212', 'rs3771475', 'rs1139', 'rs3821949', 'rs12532', 'rs4464513', 'rs698', 'rs1693482', 'rs2241894', 'rs2255796', 'rs7713638', 'rs7715100', 'rs15251', 'rs16873348', 'rs910586', 'rs2819861', 'rs1934328', 'rs987525', 'rs7078160', 'rs7940667', 'rs7103685', 'rs931953', 'rs10790330', 'rs906830', 'rs7129848', 'rs3935406', 'rs10892434', 'rs4409845', 'rs2136421', 'rs2295221', 'rs7142363', 'rs2073247', 'rs17104928', 'rs17176643', 'rs11156925', 'rs17104939', 'rs17104944', 'rs17104965', 'rs1884213', 'rs3917211', 'rs2284791', 'rs3917205', 'rs4252340', 'rs3917192', 'rs3917187', 'rs4252328', 'rs11466414', 'rs7217852', 'rs2715553', 'rs142167', 'rs9890413', 'rs2965169', 'rs8100239', 'rs13041247', 'rs6029273', 'rs3577', 'rs6621539', 'rs11796677', 'rs1429591', 'rs195291']\n"
     ]
    },
    {
     "data": {
      "image/png": "[encoded data removed]",
      "text/plain": [
       "<Figure size 432x288 with 1 Axes>"
      ]
     },
     "metadata": {
      "needs_background": "light"
     },
     "output_type": "display_data"
    },
    {
     "name": "stdout",
     "output_type": "stream",
     "text": [
      "(200, 10)\n"
     ]
    },
    {
     "data": {
      "text/plain": [
       "dtype('float64')"
      ]
     },
     "execution_count": 26,
     "metadata": {},
     "output_type": "execute_result"
    }
   ],
   "source": [
    "dataset = pd.read_csv(datadir, delimiter =\"\\t\", header = 0)\n",
    "dataset = dataset.sample(frac=1,random_state=777)\n",
    "\n",
    "SNPs = ['rs2235375','rs1044516','rs11204737','rs1044516','rs7715100','rs3917192','rs2235371']\n",
    "snps = ['rs7078160','rs3753582','rs2235373','rs1429591','rs1801133','rs906830','rs2013162','rs1044516','rs3917192','rs7103685']\n",
    "dataset.head()\n",
    "del_list = [\"famid\", \"pid\", \"fatid\", \"motid\", \"sex\",\"rs12089548\",\"rs11466414\"]\n",
    "for i in del_list:\n",
    "    del dataset[i]\n",
    "    \n",
    "y_train = pd.to_numeric(dataset['affected']) -1\n",
    "X_train = dataset[snps]\n",
    "del dataset['affected']\n",
    "\n",
    "import matplotlib.pyplot as plt\n",
    "\n",
    "plt.bar([1,2],[y_train.shape[0]-int(y_train.sum()), int(y_train.sum())], align='center')\n",
    "plt.title('Train set')\n",
    "plt.xticks([1,2], ['0', '1'])\n",
    "plt.show()\n",
    "plt.close()\n",
    "\n",
    "num_train =200\n",
    "x_train_np = np.array(X_train)[:num_train]\n",
    "x_test_np = np.array(X_train)[num_train:]\n",
    "y_train_np = np.array(y_train)[:num_train]\n",
    "y_test_np = np.array(y_train)[num_train:]\n",
    "\n",
    "input_dim = X_train.shape[1]\n",
    "x_train_np = x_train_np.astype(\"float\")\n",
    "x_test_np = x_test_np.astype(\"float\")\n",
    "y_train_np = y_train_np.astype(\"float\")\n",
    "y_test_np = y_test_np.astype(\"float\")\n",
    "x_train_np.dtype"
   ]
  },
  {
   "cell_type": "code",
   "execution_count": 52,
   "metadata": {},
   "outputs": [
    {
     "name": "stdout",
     "output_type": "stream",
     "text": [
      "Model: \"sequential_10\"\n",
      "_________________________________________________________________\n",
      "Layer (type)                 Output Shape              Param #   \n",
      "=================================================================\n",
      "dense_30 (Dense)             (None, 32)                352       \n",
      "_________________________________________________________________\n",
      "dense_31 (Dense)             (None, 64)                2112      \n",
      "_________________________________________________________________\n",
      "dense_32 (Dense)             (None, 64)                4160      \n",
      "_________________________________________________________________\n",
      "lastfc (Dense)               (None, 1)                 65        \n",
      "=================================================================\n",
      "Total params: 6,689\n",
      "Trainable params: 6,689\n",
      "Non-trainable params: 0\n",
      "_________________________________________________________________\n"
     ]
    }
   ],
   "source": [
    "size = 32\n",
    "init = keras.initializers.he_normal(seed=777)\n",
    "model = Sequential()\n",
    "model.add(Dense(size,input_dim = input_dim,activation='relu',bias_initializer=init))\n",
    "model.add(Dense(size*2,input_dim = size,activation='relu',bias_initializer=init))\n",
    "model.add(Dense(size*2,input_dim = size,activation='relu',bias_initializer=init))\n",
    "model.add(Dense(1,input_dim = size,activation='sigmoid', name='lastfc',bias_initializer=init))\n",
    "model.compile(loss='mse', optimizer='adam', metrics=[\"accuracy\"])\n",
    "model.summary()\n",
    "\n",
    "class CustomStopper(keras.callbacks.EarlyStopping):\n",
    "    def __init__(self, monitor='val_accuracy',patience=50, verbose=1,restore_best_weights=True, mode='auto', start_epoch = 20): # add argument for starting epoch\n",
    "        super(CustomStopper, self).__init__(monitor=monitor,patience=patience,mode=mode,verbose=verbose,restore_best_weights=restore_best_weights)\n",
    "        self.start_epoch = start_epoch\n",
    "\n",
    "    def on_epoch_end(self, epoch, logs=None):\n",
    "        if epoch > self.start_epoch:\n",
    "            super().on_epoch_end(epoch, logs)"
   ]
  },
  {
   "cell_type": "code",
   "execution_count": 53,
   "metadata": {},
   "outputs": [
    {
     "name": "stdout",
     "output_type": "stream",
     "text": [
      "Epoch 1/100\n",
      "7/7 - 0s - loss: 0.2747 - accuracy: 0.5250 - val_loss: 0.2455 - val_accuracy: 0.5000\n",
      "Epoch 2/100\n",
      "7/7 - 0s - loss: 0.2441 - accuracy: 0.5550 - val_loss: 0.2640 - val_accuracy: 0.4677\n",
      "Epoch 3/100\n",
      "7/7 - 0s - loss: 0.2364 - accuracy: 0.6300 - val_loss: 0.2256 - val_accuracy: 0.6452\n",
      "Epoch 4/100\n",
      "7/7 - 0s - loss: 0.2326 - accuracy: 0.6550 - val_loss: 0.2782 - val_accuracy: 0.4677\n",
      "Epoch 5/100\n",
      "7/7 - 0s - loss: 0.2223 - accuracy: 0.6550 - val_loss: 0.2153 - val_accuracy: 0.6129\n",
      "Epoch 6/100\n",
      "7/7 - 0s - loss: 0.2213 - accuracy: 0.6500 - val_loss: 0.2595 - val_accuracy: 0.4839\n",
      "Epoch 7/100\n",
      "7/7 - 0s - loss: 0.2145 - accuracy: 0.6550 - val_loss: 0.2342 - val_accuracy: 0.5806\n",
      "Epoch 8/100\n",
      "7/7 - 0s - loss: 0.2095 - accuracy: 0.6650 - val_loss: 0.2842 - val_accuracy: 0.4839\n",
      "Epoch 9/100\n",
      "7/7 - 0s - loss: 0.2079 - accuracy: 0.6600 - val_loss: 0.2498 - val_accuracy: 0.5484\n",
      "Epoch 10/100\n",
      "7/7 - 0s - loss: 0.1963 - accuracy: 0.7200 - val_loss: 0.2618 - val_accuracy: 0.5161\n",
      "Epoch 11/100\n",
      "7/7 - 0s - loss: 0.1930 - accuracy: 0.7300 - val_loss: 0.2459 - val_accuracy: 0.5484\n",
      "Epoch 12/100\n",
      "7/7 - 0s - loss: 0.1879 - accuracy: 0.7350 - val_loss: 0.2967 - val_accuracy: 0.5000\n",
      "Epoch 13/100\n",
      "7/7 - 0s - loss: 0.1822 - accuracy: 0.7550 - val_loss: 0.2802 - val_accuracy: 0.5161\n",
      "Epoch 14/100\n",
      "7/7 - 0s - loss: 0.1720 - accuracy: 0.7850 - val_loss: 0.2869 - val_accuracy: 0.5000\n",
      "Epoch 15/100\n",
      "7/7 - 0s - loss: 0.1724 - accuracy: 0.7300 - val_loss: 0.2160 - val_accuracy: 0.6452\n",
      "Epoch 16/100\n",
      "7/7 - 0s - loss: 0.1893 - accuracy: 0.6900 - val_loss: 0.3822 - val_accuracy: 0.3710\n",
      "Epoch 17/100\n",
      "7/7 - 0s - loss: 0.1753 - accuracy: 0.7450 - val_loss: 0.2513 - val_accuracy: 0.6129\n",
      "Epoch 18/100\n",
      "7/7 - 0s - loss: 0.1488 - accuracy: 0.8250 - val_loss: 0.3471 - val_accuracy: 0.3710\n",
      "Epoch 19/100\n",
      "7/7 - 0s - loss: 0.1465 - accuracy: 0.8300 - val_loss: 0.2679 - val_accuracy: 0.5806\n",
      "Epoch 20/100\n",
      "7/7 - 0s - loss: 0.1506 - accuracy: 0.8000 - val_loss: 0.3983 - val_accuracy: 0.4032\n",
      "Epoch 21/100\n",
      "7/7 - 0s - loss: 0.1418 - accuracy: 0.8000 - val_loss: 0.2398 - val_accuracy: 0.6935\n",
      "Epoch 22/100\n",
      "7/7 - 0s - loss: 0.1375 - accuracy: 0.8050 - val_loss: 0.4013 - val_accuracy: 0.3548\n",
      "Epoch 23/100\n",
      "7/7 - 0s - loss: 0.1352 - accuracy: 0.8200 - val_loss: 0.3025 - val_accuracy: 0.6129\n",
      "Epoch 24/100\n",
      "7/7 - 0s - loss: 0.1344 - accuracy: 0.8300 - val_loss: 0.3066 - val_accuracy: 0.5323\n",
      "Epoch 25/100\n",
      "7/7 - 0s - loss: 0.1473 - accuracy: 0.8100 - val_loss: 0.4005 - val_accuracy: 0.4355\n",
      "Epoch 26/100\n",
      "7/7 - 0s - loss: 0.1292 - accuracy: 0.8150 - val_loss: 0.2849 - val_accuracy: 0.5806\n",
      "Epoch 27/100\n",
      "7/7 - 0s - loss: 0.1224 - accuracy: 0.8600 - val_loss: 0.3719 - val_accuracy: 0.4677\n",
      "Epoch 28/100\n",
      "7/7 - 0s - loss: 0.1187 - accuracy: 0.8500 - val_loss: 0.3292 - val_accuracy: 0.5161\n",
      "Epoch 29/100\n",
      "7/7 - 0s - loss: 0.1056 - accuracy: 0.8950 - val_loss: 0.3595 - val_accuracy: 0.4839\n",
      "Epoch 30/100\n",
      "7/7 - 0s - loss: 0.0992 - accuracy: 0.8900 - val_loss: 0.3558 - val_accuracy: 0.5323\n",
      "Epoch 31/100\n",
      "7/7 - 0s - loss: 0.0950 - accuracy: 0.8800 - val_loss: 0.3829 - val_accuracy: 0.4516\n",
      "Epoch 32/100\n",
      "7/7 - 0s - loss: 0.0866 - accuracy: 0.9050 - val_loss: 0.3659 - val_accuracy: 0.4839\n",
      "Epoch 33/100\n",
      "7/7 - 0s - loss: 0.1010 - accuracy: 0.8650 - val_loss: 0.3255 - val_accuracy: 0.5484\n",
      "Epoch 34/100\n",
      "7/7 - 0s - loss: 0.1030 - accuracy: 0.8650 - val_loss: 0.4983 - val_accuracy: 0.3226\n",
      "Epoch 35/100\n",
      "7/7 - 0s - loss: 0.1064 - accuracy: 0.8350 - val_loss: 0.3506 - val_accuracy: 0.5484\n",
      "Epoch 36/100\n",
      "7/7 - 0s - loss: 0.0874 - accuracy: 0.8900 - val_loss: 0.3383 - val_accuracy: 0.5323\n",
      "Epoch 37/100\n",
      "7/7 - 0s - loss: 0.1017 - accuracy: 0.8750 - val_loss: 0.5195 - val_accuracy: 0.3387\n",
      "Epoch 38/100\n",
      "7/7 - 0s - loss: 0.1005 - accuracy: 0.8500 - val_loss: 0.2811 - val_accuracy: 0.6774\n",
      "Epoch 39/100\n",
      "7/7 - 0s - loss: 0.1091 - accuracy: 0.8650 - val_loss: 0.4560 - val_accuracy: 0.4032\n",
      "Epoch 40/100\n",
      "7/7 - 0s - loss: 0.0892 - accuracy: 0.9000 - val_loss: 0.3842 - val_accuracy: 0.4839\n",
      "Epoch 41/100\n",
      "7/7 - 0s - loss: 0.0825 - accuracy: 0.9050 - val_loss: 0.3725 - val_accuracy: 0.5000\n",
      "Epoch 42/100\n",
      "7/7 - 0s - loss: 0.0757 - accuracy: 0.9200 - val_loss: 0.4162 - val_accuracy: 0.4194\n",
      "Epoch 43/100\n",
      "7/7 - 0s - loss: 0.0796 - accuracy: 0.9050 - val_loss: 0.3436 - val_accuracy: 0.4677\n",
      "Epoch 44/100\n",
      "7/7 - 0s - loss: 0.0795 - accuracy: 0.9000 - val_loss: 0.3875 - val_accuracy: 0.5161\n",
      "Epoch 45/100\n",
      "7/7 - 0s - loss: 0.0816 - accuracy: 0.8950 - val_loss: 0.3364 - val_accuracy: 0.5484\n",
      "Epoch 46/100\n",
      "7/7 - 0s - loss: 0.0681 - accuracy: 0.9250 - val_loss: 0.4106 - val_accuracy: 0.4516\n",
      "Epoch 47/100\n",
      "7/7 - 0s - loss: 0.0711 - accuracy: 0.9000 - val_loss: 0.4391 - val_accuracy: 0.4355\n",
      "Epoch 48/100\n",
      "7/7 - 0s - loss: 0.0657 - accuracy: 0.9300 - val_loss: 0.3659 - val_accuracy: 0.5323\n",
      "Epoch 49/100\n",
      "7/7 - 0s - loss: 0.0676 - accuracy: 0.9150 - val_loss: 0.4262 - val_accuracy: 0.4355\n",
      "Epoch 50/100\n",
      "7/7 - 0s - loss: 0.0665 - accuracy: 0.9100 - val_loss: 0.4034 - val_accuracy: 0.4677\n",
      "Epoch 51/100\n",
      "7/7 - 0s - loss: 0.0698 - accuracy: 0.9100 - val_loss: 0.3231 - val_accuracy: 0.6129\n",
      "Epoch 52/100\n",
      "7/7 - 0s - loss: 0.0827 - accuracy: 0.9000 - val_loss: 0.4502 - val_accuracy: 0.4355\n",
      "Epoch 53/100\n",
      "7/7 - 0s - loss: 0.0561 - accuracy: 0.9450 - val_loss: 0.3358 - val_accuracy: 0.5484\n",
      "Epoch 54/100\n",
      "7/7 - 0s - loss: 0.0590 - accuracy: 0.9200 - val_loss: 0.4114 - val_accuracy: 0.4677\n",
      "Epoch 55/100\n",
      "7/7 - 0s - loss: 0.0586 - accuracy: 0.9300 - val_loss: 0.4279 - val_accuracy: 0.4516\n",
      "Epoch 56/100\n",
      "7/7 - 0s - loss: 0.0585 - accuracy: 0.9400 - val_loss: 0.3097 - val_accuracy: 0.5484\n",
      "Epoch 57/100\n",
      "7/7 - 0s - loss: 0.0677 - accuracy: 0.9150 - val_loss: 0.4645 - val_accuracy: 0.4194\n",
      "Epoch 58/100\n",
      "7/7 - 0s - loss: 0.0770 - accuracy: 0.9000 - val_loss: 0.3521 - val_accuracy: 0.5484\n",
      "Epoch 59/100\n",
      "7/7 - 0s - loss: 0.0723 - accuracy: 0.9250 - val_loss: 0.4606 - val_accuracy: 0.4194\n",
      "Epoch 60/100\n",
      "7/7 - 0s - loss: 0.0510 - accuracy: 0.9400 - val_loss: 0.3468 - val_accuracy: 0.5645\n",
      "Epoch 61/100\n",
      "7/7 - 0s - loss: 0.0591 - accuracy: 0.9300 - val_loss: 0.4219 - val_accuracy: 0.4355\n",
      "Epoch 62/100\n",
      "7/7 - 0s - loss: 0.0454 - accuracy: 0.9500 - val_loss: 0.4098 - val_accuracy: 0.5000\n",
      "Epoch 63/100\n",
      "7/7 - 0s - loss: 0.0525 - accuracy: 0.9400 - val_loss: 0.4034 - val_accuracy: 0.4677\n",
      "Epoch 64/100\n",
      "7/7 - 0s - loss: 0.0454 - accuracy: 0.9550 - val_loss: 0.4098 - val_accuracy: 0.4677\n",
      "Epoch 65/100\n",
      "7/7 - 0s - loss: 0.0428 - accuracy: 0.9500 - val_loss: 0.4733 - val_accuracy: 0.4194\n",
      "Epoch 66/100\n",
      "7/7 - 0s - loss: 0.0414 - accuracy: 0.9600 - val_loss: 0.3671 - val_accuracy: 0.5161\n",
      "Epoch 67/100\n",
      "7/7 - 0s - loss: 0.0383 - accuracy: 0.9600 - val_loss: 0.4640 - val_accuracy: 0.4032\n",
      "Epoch 68/100\n",
      "7/7 - 0s - loss: 0.0430 - accuracy: 0.9500 - val_loss: 0.3477 - val_accuracy: 0.5484\n",
      "Epoch 69/100\n",
      "7/7 - 0s - loss: 0.0378 - accuracy: 0.9550 - val_loss: 0.4999 - val_accuracy: 0.4032\n",
      "Epoch 70/100\n",
      "7/7 - 0s - loss: 0.0424 - accuracy: 0.9450 - val_loss: 0.3085 - val_accuracy: 0.6129\n",
      "Epoch 71/100\n",
      "7/7 - 0s - loss: 0.0613 - accuracy: 0.9350 - val_loss: 0.4492 - val_accuracy: 0.4516\n",
      "Epoch 72/100\n",
      "7/7 - 0s - loss: 0.0461 - accuracy: 0.9400 - val_loss: 0.3625 - val_accuracy: 0.5161\n",
      "Epoch 73/100\n",
      "7/7 - 0s - loss: 0.0397 - accuracy: 0.9550 - val_loss: 0.3997 - val_accuracy: 0.4839\n",
      "Epoch 74/100\n",
      "7/7 - 0s - loss: 0.0437 - accuracy: 0.9450 - val_loss: 0.4290 - val_accuracy: 0.4677\n",
      "Epoch 75/100\n",
      "7/7 - 0s - loss: 0.0378 - accuracy: 0.9600 - val_loss: 0.3834 - val_accuracy: 0.4839\n",
      "Epoch 76/100\n",
      "7/7 - 0s - loss: 0.0349 - accuracy: 0.9600 - val_loss: 0.4186 - val_accuracy: 0.4839\n",
      "Epoch 77/100\n",
      "7/7 - 0s - loss: 0.0323 - accuracy: 0.9650 - val_loss: 0.4122 - val_accuracy: 0.4677\n",
      "Epoch 78/100\n",
      "7/7 - 0s - loss: 0.0294 - accuracy: 0.9650 - val_loss: 0.4026 - val_accuracy: 0.4839\n",
      "Epoch 79/100\n",
      "7/7 - 0s - loss: 0.0305 - accuracy: 0.9650 - val_loss: 0.3976 - val_accuracy: 0.5161\n",
      "Epoch 80/100\n",
      "7/7 - 0s - loss: 0.0408 - accuracy: 0.9500 - val_loss: 0.4490 - val_accuracy: 0.4516\n",
      "Epoch 81/100\n",
      "7/7 - 0s - loss: 0.0356 - accuracy: 0.9600 - val_loss: 0.4162 - val_accuracy: 0.4839\n",
      "Epoch 82/100\n",
      "7/7 - 0s - loss: 0.0302 - accuracy: 0.9650 - val_loss: 0.4295 - val_accuracy: 0.4677\n",
      "Epoch 83/100\n",
      "7/7 - 0s - loss: 0.0295 - accuracy: 0.9600 - val_loss: 0.4224 - val_accuracy: 0.5000\n",
      "Epoch 84/100\n",
      "7/7 - 0s - loss: 0.0250 - accuracy: 0.9700 - val_loss: 0.4310 - val_accuracy: 0.4677\n"
     ]
    },
    {
     "name": "stdout",
     "output_type": "stream",
     "text": [
      "Epoch 85/100\n",
      "7/7 - 0s - loss: 0.0273 - accuracy: 0.9750 - val_loss: 0.4181 - val_accuracy: 0.4677\n",
      "Epoch 86/100\n",
      "7/7 - 0s - loss: 0.0298 - accuracy: 0.9700 - val_loss: 0.4375 - val_accuracy: 0.4194\n",
      "Epoch 87/100\n",
      "7/7 - 0s - loss: 0.0280 - accuracy: 0.9650 - val_loss: 0.4139 - val_accuracy: 0.4677\n",
      "Epoch 88/100\n",
      "Restoring model weights from the end of the best epoch.\n",
      "7/7 - 0s - loss: 0.0279 - accuracy: 0.9700 - val_loss: 0.4094 - val_accuracy: 0.4677\n",
      "Epoch 00088: early stopping\n"
     ]
    }
   ],
   "source": [
    "filepath = \"./model/16snp6_ann-{epoch:02d}-{val_accuracy:.2f}.h5\"\n",
    "save_best = ModelCheckpoint(filepath =filepath, monitor='val_loss', mode ='auto', save_best_only = False, save_weights_only = False)\n",
    "opt = optimizers.Adam(lr=5e-3,decay=1e-5)\n",
    "model.compile(loss='mse', optimizer=opt, metrics=['accuracy'])\n",
    "Earlystop = CustomStopper()\n",
    "history = model.fit(x_train_np, y_train_np, epochs=100, verbose=2, validation_data=(x_test_np,y_test_np), callbacks=[Earlystop])\n"
   ]
  },
  {
   "cell_type": "code",
   "execution_count": 54,
   "metadata": {},
   "outputs": [
    {
     "name": "stdout",
     "output_type": "stream",
     "text": [
      "1/1 - 0s - loss: 0.1316 - accuracy: 0.8200\n",
      "1/1 - 0s - loss: 0.2811 - accuracy: 0.6774\n",
      "test auc\n",
      "0.5581699346405228\n",
      "train auc\n",
      "0.9492296918767507\n"
     ]
    },
    {
     "data": {
      "image/png": "[encoded data removed]",
      "text/plain": [
       "<Figure size 432x288 with 1 Axes>"
      ]
     },
     "metadata": {
      "needs_background": "light"
     },
     "output_type": "display_data"
    },
    {
     "data": {
      "image/png": "[encoded data removed]",
      "text/plain": [
       "<Figure size 432x288 with 1 Axes>"
      ]
     },
     "metadata": {
      "needs_background": "light"
     },
     "output_type": "display_data"
    },
    {
     "data": {
      "text/plain": [
       "[<matplotlib.lines.Line2D at 0x7f348c0504f0>]"
      ]
     },
     "execution_count": 54,
     "metadata": {},
     "output_type": "execute_result"
    },
    {
     "data": {
      "image/png": "[encoded data removed]",
      "text/plain": [
       "<Figure size 432x288 with 1 Axes>"
      ]
     },
     "metadata": {
      "needs_background": "light"
     },
     "output_type": "display_data"
    }
   ],
   "source": [
    "#model = keras.models.load_model(\"./model/16snp6_ann-69-0.58.h5\")\n",
    "test_loss, test_acc = model.evaluate(x_train_np, y_train_np, batch_size=200, verbose=2)\n",
    "test_loss, test_acc = model.evaluate(x_test_np, y_test_np, batch_size=100, verbose=2)\n",
    "\n",
    "print('test auc')\n",
    "predict_test = model.predict(x_test_np, batch_size=20)\n",
    "print(roc_auc_score(y_test_np, predict_test))\n",
    "print('train auc')\n",
    "predict_train = model.predict(x_train_np, batch_size=20)\n",
    "print(roc_auc_score(y_train_np, predict_train))\n",
    "\n",
    "\n",
    "plotResults(history)\n",
    "\n",
    "from sklearn.metrics import roc_curve, auc\n",
    "nn_fpr_keras, nn_tpr_keras, nn_thresholds_keras = roc_curve(y_test_np, predict_test)\n",
    "auc_keras = auc(nn_fpr_keras, nn_tpr_keras)\n",
    "plt.plot(nn_fpr_keras, nn_tpr_keras, marker='.', label='Neural Network (auc = %0.3f)' % auc_keras)"
   ]
  },
  {
   "cell_type": "code",
   "execution_count": 12,
   "metadata": {},
   "outputs": [
    {
     "name": "stdout",
     "output_type": "stream",
     "text": [
      "0.7753225862979889\n",
      "71\n"
     ]
    }
   ],
   "source": [
    "fitness_a = []\n",
    "for k,j in zip(history.history[\"val_accuracy\"], history.history[\"accuracy\"]):\n",
    "    fitness_a.append((k+j)/2)  \n",
    "print(max(fitness_a))\n",
    "print(fitness_a.index(max(fitness_a)))"
   ]
  },
  {
   "cell_type": "code",
   "execution_count": 13,
   "metadata": {},
   "outputs": [
    {
     "name": "stdout",
     "output_type": "stream",
     "text": [
      "0.1888111587613821\n",
      "71\n"
     ]
    }
   ],
   "source": [
    "fitness_a = []\n",
    "for k,j in zip(history.history[\"val_loss\"], history.history[\"loss\"]):\n",
    "    fitness_a.append((k+j)/2)  \n",
    "print(min(fitness_a))\n",
    "print(fitness_a.index(min(fitness_a)))"
   ]
  }
 ],
 "metadata": {
  "kernelspec": {
   "display_name": "Python 3 (ipykernel)",
   "language": "python",
   "name": "python3"
  },
  "language_info": {
   "codemirror_mode": {
    "name": "ipython",
    "version": 3
   },
   "file_extension": ".py",
   "mimetype": "text/x-python",
   "name": "python",
   "nbconvert_exporter": "python",
   "pygments_lexer": "ipython3",
   "version": "3.8.10"
  }
 },
 "nbformat": 4,
 "nbformat_minor": 4
}
