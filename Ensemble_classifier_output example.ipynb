{
 "cells": [
  {
   "cell_type": "code",
   "execution_count": 1,
   "metadata": {},
   "outputs": [
    {
     "name": "stderr",
     "output_type": "stream",
     "text": [
      "2023-02-12 11:19:11.407482: I tensorflow/stream_executor/platform/default/dso_loader.cc:48] Successfully opened dynamic library libcudart.so.10.1\n"
     ]
    }
   ],
   "source": [
    "from keras.models import Model, Sequential\n",
    "from keras.layers import Input, Dense, Convolution2D, Flatten, Dropout,GlobalAveragePooling2D\n",
    "from keras import backend as K\n",
    "from keras.callbacks import EarlyStopping, ModelCheckpoint\n",
    "from keras import models,optimizers\n",
    "from keras import layers\n",
    "from tensorflow import keras\n",
    "from keras import metrics\n",
    "from keras.applications.inception_resnet_v2 import preprocess_input\n",
    "from attention import AttentionLayer\n",
    "from sklearn.metrics import roc_auc_score, accuracy_score, classification_report, confusion_matrix\n",
    "import os\n",
    "import pandas as pd\n",
    "import matplotlib.pyplot as plt\n",
    "#import keras\n",
    "import numpy as np\n",
    "import warnings\n",
    "warnings.filterwarnings('ignore')"
   ]
  },
  {
   "cell_type": "code",
   "execution_count": 2,
   "metadata": {},
   "outputs": [
    {
     "name": "stderr",
     "output_type": "stream",
     "text": [
      "2023-02-12 11:19:13.027945: I tensorflow/stream_executor/platform/default/dso_loader.cc:48] Successfully opened dynamic library libcuda.so.1\n",
      "2023-02-12 11:19:13.052639: I tensorflow/stream_executor/cuda/cuda_gpu_executor.cc:982] successful NUMA node read from SysFS had negative value (-1), but there must be at least one NUMA node, so returning NUMA node zero\n",
      "2023-02-12 11:19:13.053244: I tensorflow/core/common_runtime/gpu/gpu_device.cc:1716] Found device 0 with properties: \n",
      "pciBusID: 0000:24:00.0 name: NVIDIA GeForce GTX 1080 computeCapability: 6.1\n",
      "coreClock: 1.86GHz coreCount: 20 deviceMemorySize: 7.93GiB deviceMemoryBandwidth: 298.32GiB/s\n",
      "2023-02-12 11:19:13.053269: I tensorflow/stream_executor/platform/default/dso_loader.cc:48] Successfully opened dynamic library libcudart.so.10.1\n",
      "2023-02-12 11:19:13.055059: I tensorflow/stream_executor/platform/default/dso_loader.cc:48] Successfully opened dynamic library libcublas.so.10\n",
      "2023-02-12 11:19:13.056559: I tensorflow/stream_executor/platform/default/dso_loader.cc:48] Successfully opened dynamic library libcufft.so.10\n",
      "2023-02-12 11:19:13.056785: I tensorflow/stream_executor/platform/default/dso_loader.cc:48] Successfully opened dynamic library libcurand.so.10\n",
      "2023-02-12 11:19:13.058013: I tensorflow/stream_executor/platform/default/dso_loader.cc:48] Successfully opened dynamic library libcusolver.so.10\n",
      "2023-02-12 11:19:13.058811: I tensorflow/stream_executor/platform/default/dso_loader.cc:48] Successfully opened dynamic library libcusparse.so.10\n",
      "2023-02-12 11:19:13.061480: I tensorflow/stream_executor/platform/default/dso_loader.cc:48] Successfully opened dynamic library libcudnn.so.7\n",
      "2023-02-12 11:19:13.061651: I tensorflow/stream_executor/cuda/cuda_gpu_executor.cc:982] successful NUMA node read from SysFS had negative value (-1), but there must be at least one NUMA node, so returning NUMA node zero\n",
      "2023-02-12 11:19:13.062163: I tensorflow/stream_executor/cuda/cuda_gpu_executor.cc:982] successful NUMA node read from SysFS had negative value (-1), but there must be at least one NUMA node, so returning NUMA node zero\n",
      "2023-02-12 11:19:13.062582: I tensorflow/core/common_runtime/gpu/gpu_device.cc:1858] Adding visible gpu devices: 0\n"
     ]
    }
   ],
   "source": [
    "import warnings\n",
    "warnings.filterwarnings('ignore')\n",
    "\n",
    "import tensorflow as tf\n",
    "gpus = tf.config.experimental.list_physical_devices('GPU')\n",
    "if gpus:\n",
    "    try:\n",
    "        for gpu in gpus:\n",
    "            tf.config.experimental.set_memory_growth(gpu, True)\n",
    "\n",
    "    except RuntimeError as e:\n",
    "        print(e)"
   ]
  },
  {
   "cell_type": "code",
   "execution_count": 3,
   "metadata": {},
   "outputs": [],
   "source": [
    "def plotResults(history):\n",
    "        \n",
    "    # Accuracy\n",
    "    plt.plot(history.history[\"accuracy\"])\n",
    "    plt.plot(history.history['val_accuracy'])\n",
    "    plt.title('Model accuracy')\n",
    "    plt.ylabel('Accuracy')\n",
    "    plt.xlabel('Epoch')\n",
    "    plt.legend(['train', 'test'], loc='upper left')\n",
    "    #plt.savefig('images/accuracy.png')\n",
    "    plt.show()\n",
    "    plt.close()\n",
    "    \n",
    "    # Loss\n",
    "    plt.plot(history.history['loss'])\n",
    "    plt.plot(history.history['val_loss'])\n",
    "    plt.title('Model loss')\n",
    "    plt.ylabel('loss')\n",
    "    plt.xlabel('Epoch')\n",
    "    plt.legend(['train', 'test'], loc='upper left')\n",
    "    #plt.savefig('images/loss.png')\n",
    "    plt.show()\n",
    "    plt.close()"
   ]
  },
  {
   "cell_type": "code",
   "execution_count": 4,
   "metadata": {},
   "outputs": [],
   "source": [
    "datadir = \"./data/akac_gen.txt\""
   ]
  },
  {
   "cell_type": "code",
   "execution_count": 5,
   "metadata": {},
   "outputs": [
    {
     "name": "stdout",
     "output_type": "stream",
     "text": [
      "['famid', 'pid', 'fatid', 'motid', 'sex', 'affected', 'rs3737967', 'rs1537514', 'rs2274976', 'rs1801131', 'rs1801133', 'rs9651118', 'rs3753582', 'rs4147871', 'rs560426', 'rs1209169', 'rs481931', 'rs12089548', 'rs16827741', 'rs2228099', 'rs11204737', 'rs3768012', 'rs7517566', 'rs1044516', 'rs599021', 'rs17317411', 'rs2235373', 'rs2235371', 'rs2235375', 'rs595918', 'rs17015218', 'rs2013162', 'rs3821272', 'rs930655', 'rs3732247', 'rs765871', 'rs3771498', 'rs3771497', 'rs3755377', 'rs3771485', 'rs11466212', 'rs3771475', 'rs1139', 'rs3821949', 'rs12532', 'rs4464513', 'rs698', 'rs1693482', 'rs2241894', 'rs2255796', 'rs7713638', 'rs7715100', 'rs15251', 'rs16873348', 'rs910586', 'rs2819861', 'rs1934328', 'rs987525', 'rs7078160', 'rs7940667', 'rs7103685', 'rs931953', 'rs10790330', 'rs906830', 'rs7129848', 'rs3935406', 'rs10892434', 'rs4409845', 'rs2136421', 'rs2295221', 'rs7142363', 'rs2073247', 'rs17104928', 'rs17176643', 'rs11156925', 'rs17104939', 'rs17104944', 'rs17104965', 'rs1884213', 'rs3917211', 'rs2284791', 'rs3917205', 'rs4252340', 'rs3917192', 'rs3917187', 'rs4252328', 'rs11466414', 'rs7217852', 'rs2715553', 'rs142167', 'rs9890413', 'rs2965169', 'rs8100239', 'rs13041247', 'rs6029273', 'rs3577', 'rs6621539', 'rs11796677', 'rs1429591', 'rs195291']\n"
     ]
    }
   ],
   "source": [
    "dataset = pd.read_csv(datadir, delimiter =\"\\t\", header = 0)\n",
    "print(list(dataset.columns))\n",
    "dataset = dataset.sample(frac=1,random_state=777)  # row 전체 shuffle\n",
    "\n",
    "SNPs = ['rs2235375','rs1044516','rs11204737','rs1044516','rs7715100','rs3917192','rs2235371']\n",
    "snps = ['rs906830', 'rs1537514', 'rs4252328', 'rs2235371', 'rs481931', 'rs3771485', 'rs4252328', 'rs9651118', 'rs11796677', 'rs2295221']\n",
    "\n",
    "dataset.head()\n",
    "del_list = [\"famid\", \"pid\", \"fatid\", \"motid\", \"sex\",\"rs12089548\",\"rs11466414\"]\n",
    "for i in del_list:\n",
    "    del dataset[i]\n",
    "\n",
    "y_train = pd.to_numeric(dataset['affected']) -1\n",
    "del dataset['affected']\n",
    "\n",
    "\n"
   ]
  },
  {
   "cell_type": "code",
   "execution_count": 6,
   "metadata": {},
   "outputs": [
    {
     "data": {
      "text/html": [
       "<div>\n",
       "<style scoped>\n",
       "    .dataframe tbody tr th:only-of-type {\n",
       "        vertical-align: middle;\n",
       "    }\n",
       "\n",
       "    .dataframe tbody tr th {\n",
       "        vertical-align: top;\n",
       "    }\n",
       "\n",
       "    .dataframe thead th {\n",
       "        text-align: right;\n",
       "    }\n",
       "</style>\n",
       "<table border=\"1\" class=\"dataframe\">\n",
       "  <thead>\n",
       "    <tr style=\"text-align: right;\">\n",
       "      <th></th>\n",
       "      <th>rs3737967</th>\n",
       "      <th>rs1537514</th>\n",
       "      <th>rs2274976</th>\n",
       "      <th>rs1801131</th>\n",
       "      <th>rs1801133</th>\n",
       "      <th>rs9651118</th>\n",
       "      <th>rs3753582</th>\n",
       "      <th>rs4147871</th>\n",
       "      <th>rs560426</th>\n",
       "      <th>rs1209169</th>\n",
       "      <th>...</th>\n",
       "      <th>rs9890413</th>\n",
       "      <th>rs2965169</th>\n",
       "      <th>rs8100239</th>\n",
       "      <th>rs13041247</th>\n",
       "      <th>rs6029273</th>\n",
       "      <th>rs3577</th>\n",
       "      <th>rs6621539</th>\n",
       "      <th>rs11796677</th>\n",
       "      <th>rs1429591</th>\n",
       "      <th>rs195291</th>\n",
       "    </tr>\n",
       "  </thead>\n",
       "  <tbody>\n",
       "    <tr>\n",
       "      <th>145</th>\n",
       "      <td>2</td>\n",
       "      <td>2</td>\n",
       "      <td>2</td>\n",
       "      <td>2</td>\n",
       "      <td>2</td>\n",
       "      <td>0</td>\n",
       "      <td>1</td>\n",
       "      <td>0</td>\n",
       "      <td>2</td>\n",
       "      <td>1</td>\n",
       "      <td>...</td>\n",
       "      <td>2</td>\n",
       "      <td>1</td>\n",
       "      <td>1</td>\n",
       "      <td>2</td>\n",
       "      <td>1</td>\n",
       "      <td>2</td>\n",
       "      <td>0</td>\n",
       "      <td>2</td>\n",
       "      <td>0</td>\n",
       "      <td>2</td>\n",
       "    </tr>\n",
       "    <tr>\n",
       "      <th>25</th>\n",
       "      <td>2</td>\n",
       "      <td>2</td>\n",
       "      <td>2</td>\n",
       "      <td>2</td>\n",
       "      <td>1</td>\n",
       "      <td>1</td>\n",
       "      <td>2</td>\n",
       "      <td>0</td>\n",
       "      <td>2</td>\n",
       "      <td>2</td>\n",
       "      <td>...</td>\n",
       "      <td>1</td>\n",
       "      <td>2</td>\n",
       "      <td>2</td>\n",
       "      <td>1</td>\n",
       "      <td>1</td>\n",
       "      <td>2</td>\n",
       "      <td>0</td>\n",
       "      <td>2</td>\n",
       "      <td>0</td>\n",
       "      <td>1</td>\n",
       "    </tr>\n",
       "    <tr>\n",
       "      <th>48</th>\n",
       "      <td>2</td>\n",
       "      <td>2</td>\n",
       "      <td>2</td>\n",
       "      <td>2</td>\n",
       "      <td>1</td>\n",
       "      <td>1</td>\n",
       "      <td>2</td>\n",
       "      <td>0</td>\n",
       "      <td>2</td>\n",
       "      <td>2</td>\n",
       "      <td>...</td>\n",
       "      <td>2</td>\n",
       "      <td>2</td>\n",
       "      <td>1</td>\n",
       "      <td>0</td>\n",
       "      <td>0</td>\n",
       "      <td>2</td>\n",
       "      <td>1</td>\n",
       "      <td>1</td>\n",
       "      <td>0</td>\n",
       "      <td>1</td>\n",
       "    </tr>\n",
       "    <tr>\n",
       "      <th>169</th>\n",
       "      <td>2</td>\n",
       "      <td>2</td>\n",
       "      <td>2</td>\n",
       "      <td>2</td>\n",
       "      <td>1</td>\n",
       "      <td>0</td>\n",
       "      <td>2</td>\n",
       "      <td>0</td>\n",
       "      <td>2</td>\n",
       "      <td>2</td>\n",
       "      <td>...</td>\n",
       "      <td>2</td>\n",
       "      <td>1</td>\n",
       "      <td>2</td>\n",
       "      <td>1</td>\n",
       "      <td>0</td>\n",
       "      <td>2</td>\n",
       "      <td>2</td>\n",
       "      <td>0</td>\n",
       "      <td>0</td>\n",
       "      <td>0</td>\n",
       "    </tr>\n",
       "    <tr>\n",
       "      <th>177</th>\n",
       "      <td>2</td>\n",
       "      <td>2</td>\n",
       "      <td>2</td>\n",
       "      <td>2</td>\n",
       "      <td>1</td>\n",
       "      <td>1</td>\n",
       "      <td>2</td>\n",
       "      <td>0</td>\n",
       "      <td>1</td>\n",
       "      <td>1</td>\n",
       "      <td>...</td>\n",
       "      <td>2</td>\n",
       "      <td>1</td>\n",
       "      <td>1</td>\n",
       "      <td>2</td>\n",
       "      <td>0</td>\n",
       "      <td>2</td>\n",
       "      <td>2</td>\n",
       "      <td>0</td>\n",
       "      <td>0</td>\n",
       "      <td>0</td>\n",
       "    </tr>\n",
       "  </tbody>\n",
       "</table>\n",
       "<p>5 rows × 92 columns</p>\n",
       "</div>"
      ],
      "text/plain": [
       "     rs3737967  rs1537514  rs2274976  rs1801131  rs1801133  rs9651118  \\\n",
       "145          2          2          2          2          2          0   \n",
       "25           2          2          2          2          1          1   \n",
       "48           2          2          2          2          1          1   \n",
       "169          2          2          2          2          1          0   \n",
       "177          2          2          2          2          1          1   \n",
       "\n",
       "     rs3753582  rs4147871  rs560426  rs1209169  ...  rs9890413  rs2965169  \\\n",
       "145          1          0         2          1  ...          2          1   \n",
       "25           2          0         2          2  ...          1          2   \n",
       "48           2          0         2          2  ...          2          2   \n",
       "169          2          0         2          2  ...          2          1   \n",
       "177          2          0         1          1  ...          2          1   \n",
       "\n",
       "     rs8100239  rs13041247  rs6029273  rs3577  rs6621539  rs11796677  \\\n",
       "145          1           2          1       2          0           2   \n",
       "25           2           1          1       2          0           2   \n",
       "48           1           0          0       2          1           1   \n",
       "169          2           1          0       2          2           0   \n",
       "177          1           2          0       2          2           0   \n",
       "\n",
       "     rs1429591  rs195291  \n",
       "145          0         2  \n",
       "25           0         1  \n",
       "48           0         1  \n",
       "169          0         0  \n",
       "177          0         0  \n",
       "\n",
       "[5 rows x 92 columns]"
      ]
     },
     "execution_count": 6,
     "metadata": {},
     "output_type": "execute_result"
    }
   ],
   "source": [
    "dataset.head()"
   ]
  },
  {
   "cell_type": "code",
   "execution_count": 7,
   "metadata": {},
   "outputs": [],
   "source": [
    "#from keras.utils import to_categorical\n",
    "#y_train_np = to_categorical(y_train_np)\n",
    "#print(y_train_np)"
   ]
  },
  {
   "cell_type": "code",
   "execution_count": 8,
   "metadata": {},
   "outputs": [
    {
     "name": "stderr",
     "output_type": "stream",
     "text": [
      "2023-02-12 11:19:13.142873: I tensorflow/core/platform/cpu_feature_guard.cc:142] This TensorFlow binary is optimized with oneAPI Deep Neural Network Library (oneDNN)to use the following CPU instructions in performance-critical operations:  AVX2 FMA\n",
      "To enable them in other operations, rebuild TensorFlow with the appropriate compiler flags.\n",
      "2023-02-12 11:19:13.166462: I tensorflow/core/platform/profile_utils/cpu_utils.cc:104] CPU Frequency: 3599535000 Hz\n",
      "2023-02-12 11:19:13.167419: I tensorflow/compiler/xla/service/service.cc:168] XLA service 0x537c010 initialized for platform Host (this does not guarantee that XLA will be used). Devices:\n",
      "2023-02-12 11:19:13.167452: I tensorflow/compiler/xla/service/service.cc:176]   StreamExecutor device (0): Host, Default Version\n",
      "2023-02-12 11:19:13.233627: I tensorflow/stream_executor/cuda/cuda_gpu_executor.cc:982] successful NUMA node read from SysFS had negative value (-1), but there must be at least one NUMA node, so returning NUMA node zero\n",
      "2023-02-12 11:19:13.234171: I tensorflow/compiler/xla/service/service.cc:168] XLA service 0x4b7a6d0 initialized for platform CUDA (this does not guarantee that XLA will be used). Devices:\n",
      "2023-02-12 11:19:13.234203: I tensorflow/compiler/xla/service/service.cc:176]   StreamExecutor device (0): NVIDIA GeForce GTX 1080, Compute Capability 6.1\n",
      "2023-02-12 11:19:13.234525: I tensorflow/stream_executor/cuda/cuda_gpu_executor.cc:982] successful NUMA node read from SysFS had negative value (-1), but there must be at least one NUMA node, so returning NUMA node zero\n",
      "2023-02-12 11:19:13.235192: I tensorflow/core/common_runtime/gpu/gpu_device.cc:1716] Found device 0 with properties: \n",
      "pciBusID: 0000:24:00.0 name: NVIDIA GeForce GTX 1080 computeCapability: 6.1\n",
      "coreClock: 1.86GHz coreCount: 20 deviceMemorySize: 7.93GiB deviceMemoryBandwidth: 298.32GiB/s\n",
      "2023-02-12 11:19:13.235226: I tensorflow/stream_executor/platform/default/dso_loader.cc:48] Successfully opened dynamic library libcudart.so.10.1\n",
      "2023-02-12 11:19:13.235261: I tensorflow/stream_executor/platform/default/dso_loader.cc:48] Successfully opened dynamic library libcublas.so.10\n",
      "2023-02-12 11:19:13.235280: I tensorflow/stream_executor/platform/default/dso_loader.cc:48] Successfully opened dynamic library libcufft.so.10\n",
      "2023-02-12 11:19:13.235298: I tensorflow/stream_executor/platform/default/dso_loader.cc:48] Successfully opened dynamic library libcurand.so.10\n",
      "2023-02-12 11:19:13.235317: I tensorflow/stream_executor/platform/default/dso_loader.cc:48] Successfully opened dynamic library libcusolver.so.10\n",
      "2023-02-12 11:19:13.235335: I tensorflow/stream_executor/platform/default/dso_loader.cc:48] Successfully opened dynamic library libcusparse.so.10\n",
      "2023-02-12 11:19:13.235353: I tensorflow/stream_executor/platform/default/dso_loader.cc:48] Successfully opened dynamic library libcudnn.so.7\n",
      "2023-02-12 11:19:13.235442: I tensorflow/stream_executor/cuda/cuda_gpu_executor.cc:982] successful NUMA node read from SysFS had negative value (-1), but there must be at least one NUMA node, so returning NUMA node zero\n",
      "2023-02-12 11:19:13.236070: I tensorflow/stream_executor/cuda/cuda_gpu_executor.cc:982] successful NUMA node read from SysFS had negative value (-1), but there must be at least one NUMA node, so returning NUMA node zero\n",
      "2023-02-12 11:19:13.236614: I tensorflow/core/common_runtime/gpu/gpu_device.cc:1858] Adding visible gpu devices: 0\n",
      "2023-02-12 11:19:13.236646: I tensorflow/stream_executor/platform/default/dso_loader.cc:48] Successfully opened dynamic library libcudart.so.10.1\n",
      "2023-02-12 11:19:13.539875: I tensorflow/core/common_runtime/gpu/gpu_device.cc:1257] Device interconnect StreamExecutor with strength 1 edge matrix:\n",
      "2023-02-12 11:19:13.539910: I tensorflow/core/common_runtime/gpu/gpu_device.cc:1263]      0 \n",
      "2023-02-12 11:19:13.539916: I tensorflow/core/common_runtime/gpu/gpu_device.cc:1276] 0:   N \n",
      "2023-02-12 11:19:13.540249: I tensorflow/stream_executor/cuda/cuda_gpu_executor.cc:982] successful NUMA node read from SysFS had negative value (-1), but there must be at least one NUMA node, so returning NUMA node zero\n",
      "2023-02-12 11:19:13.540753: I tensorflow/stream_executor/cuda/cuda_gpu_executor.cc:982] successful NUMA node read from SysFS had negative value (-1), but there must be at least one NUMA node, so returning NUMA node zero\n",
      "2023-02-12 11:19:13.541197: I tensorflow/core/common_runtime/gpu/gpu_device.cc:1402] Created TensorFlow device (/job:localhost/replica:0/task:0/device:GPU:0 with 5587 MB memory) -> physical GPU (device: 0, name: NVIDIA GeForce GTX 1080, pci bus id: 0000:24:00.0, compute capability: 6.1)\n"
     ]
    }
   ],
   "source": [
    "model = keras.models.load_model(\"./Ensemble/10snp2_ann.h5\")\n",
    "#model.compile(loss='mse', optimizer='adam', metrics=[\"accuracy\"])\n",
    "#model.evaluate(x_train_np, y_train_np, batch_size=200, verbose=2)\n",
    "#model.evaluate(x_test_np, y_test_np, batch_size=100, verbose=2)\n"
   ]
  },
  {
   "cell_type": "code",
   "execution_count": 9,
   "metadata": {},
   "outputs": [],
   "source": [
    "model1 = keras.models.load_model(\"./Ensemble/16snp1_ann-69-0.63.h5\")\n",
    "model2 = keras.models.load_model(\"./Ensemble/16snp2_ann-61-0.65.h5\")\n",
    "model3 = keras.models.load_model(\"./Ensemble/16snp3_ann-37-0.61.h5\")\n",
    "model4 = keras.models.load_model(\"./Ensemble/16snp4_ann-36-0.61.h5\")\n",
    "model5 = keras.models.load_model(\"./Ensemble/16snp5_ann-64-0.65.h5\")\n",
    "model6 = keras.models.load_model(\"./Ensemble/16snp6_ann-69-0.58.h5\")"
   ]
  },
  {
   "cell_type": "code",
   "execution_count": 10,
   "metadata": {},
   "outputs": [],
   "source": [
    "models = [model1,model2,model3,model4,model5,model6]"
   ]
  },
  {
   "cell_type": "code",
   "execution_count": 11,
   "metadata": {},
   "outputs": [],
   "source": [
    "import warnings\n",
    "warnings.filterwarnings('ignore')"
   ]
  },
  {
   "cell_type": "code",
   "execution_count": 12,
   "metadata": {},
   "outputs": [
    {
     "name": "stdout",
     "output_type": "stream",
     "text": [
      "['rs3771485', 'rs2235371', 'rs2013162', 'rs4252328', 'rs7129848', 'rs7940667', 'rs4464513', 'rs16873348', 'rs2819861', 'rs1934328', 'rs2284791', 'rs16827741', 'rs17317411', 'rs6029273', 'rs481931', 'rs11796677']\n",
      "1/1 - 0s - loss: 0.0054 - accuracy: 0.9950\n",
      "1/1 - 0s - loss: 0.3402 - accuracy: 0.6290\n"
     ]
    },
    {
     "name": "stderr",
     "output_type": "stream",
     "text": [
      "2023-02-12 11:19:14.160772: I tensorflow/stream_executor/platform/default/dso_loader.cc:48] Successfully opened dynamic library libcublas.so.10\n"
     ]
    },
    {
     "name": "stdout",
     "output_type": "stream",
     "text": [
      "1/1 - 0s - loss: 0.0351 - accuracy: 0.9450\n",
      "1/1 - 0s - loss: 0.2709 - accuracy: 0.6452\n",
      "WARNING:tensorflow:5 out of the last 5 calls to <function Model.make_test_function.<locals>.test_function at 0x7f7fb016f550> triggered tf.function retracing. Tracing is expensive and the excessive number of tracings could be due to (1) creating @tf.function repeatedly in a loop, (2) passing tensors with different shapes, (3) passing Python objects instead of tensors. For (1), please define your @tf.function outside of the loop. For (2), @tf.function has experimental_relax_shapes=True option that relaxes argument shapes that can avoid unnecessary retracing. For (3), please refer to https://www.tensorflow.org/tutorials/customization/performance#python_or_tensor_args and https://www.tensorflow.org/api_docs/python/tf/function for  more details.\n",
      "1/1 - 0s - loss: 0.0309 - accuracy: 0.9750\n",
      "WARNING:tensorflow:6 out of the last 6 calls to <function Model.make_test_function.<locals>.test_function at 0x7f7fb016f550> triggered tf.function retracing. Tracing is expensive and the excessive number of tracings could be due to (1) creating @tf.function repeatedly in a loop, (2) passing tensors with different shapes, (3) passing Python objects instead of tensors. For (1), please define your @tf.function outside of the loop. For (2), @tf.function has experimental_relax_shapes=True option that relaxes argument shapes that can avoid unnecessary retracing. For (3), please refer to https://www.tensorflow.org/tutorials/customization/performance#python_or_tensor_args and https://www.tensorflow.org/api_docs/python/tf/function for  more details.\n",
      "1/1 - 0s - loss: 0.2986 - accuracy: 0.6129\n",
      "WARNING:tensorflow:5 out of the last 13 calls to <function Model.make_predict_function.<locals>.predict_function at 0x7f7fb01e2a60> triggered tf.function retracing. Tracing is expensive and the excessive number of tracings could be due to (1) creating @tf.function repeatedly in a loop, (2) passing tensors with different shapes, (3) passing Python objects instead of tensors. For (1), please define your @tf.function outside of the loop. For (2), @tf.function has experimental_relax_shapes=True option that relaxes argument shapes that can avoid unnecessary retracing. For (3), please refer to https://www.tensorflow.org/tutorials/customization/performance#python_or_tensor_args and https://www.tensorflow.org/api_docs/python/tf/function for  more details.\n",
      "WARNING:tensorflow:7 out of the last 7 calls to <function Model.make_test_function.<locals>.test_function at 0x7f7fb00c0c10> triggered tf.function retracing. Tracing is expensive and the excessive number of tracings could be due to (1) creating @tf.function repeatedly in a loop, (2) passing tensors with different shapes, (3) passing Python objects instead of tensors. For (1), please define your @tf.function outside of the loop. For (2), @tf.function has experimental_relax_shapes=True option that relaxes argument shapes that can avoid unnecessary retracing. For (3), please refer to https://www.tensorflow.org/tutorials/customization/performance#python_or_tensor_args and https://www.tensorflow.org/api_docs/python/tf/function for  more details.\n",
      "1/1 - 0s - loss: 0.0036 - accuracy: 1.0000\n",
      "WARNING:tensorflow:8 out of the last 8 calls to <function Model.make_test_function.<locals>.test_function at 0x7f7fb00c0c10> triggered tf.function retracing. Tracing is expensive and the excessive number of tracings could be due to (1) creating @tf.function repeatedly in a loop, (2) passing tensors with different shapes, (3) passing Python objects instead of tensors. For (1), please define your @tf.function outside of the loop. For (2), @tf.function has experimental_relax_shapes=True option that relaxes argument shapes that can avoid unnecessary retracing. For (3), please refer to https://www.tensorflow.org/tutorials/customization/performance#python_or_tensor_args and https://www.tensorflow.org/api_docs/python/tf/function for  more details.\n",
      "1/1 - 0s - loss: 0.3313 - accuracy: 0.6129\n",
      "WARNING:tensorflow:5 out of the last 13 calls to <function Model.make_predict_function.<locals>.predict_function at 0x7f7fb0235160> triggered tf.function retracing. Tracing is expensive and the excessive number of tracings could be due to (1) creating @tf.function repeatedly in a loop, (2) passing tensors with different shapes, (3) passing Python objects instead of tensors. For (1), please define your @tf.function outside of the loop. For (2), @tf.function has experimental_relax_shapes=True option that relaxes argument shapes that can avoid unnecessary retracing. For (3), please refer to https://www.tensorflow.org/tutorials/customization/performance#python_or_tensor_args and https://www.tensorflow.org/api_docs/python/tf/function for  more details.\n",
      "WARNING:tensorflow:9 out of the last 9 calls to <function Model.make_test_function.<locals>.test_function at 0x7f7f68055160> triggered tf.function retracing. Tracing is expensive and the excessive number of tracings could be due to (1) creating @tf.function repeatedly in a loop, (2) passing tensors with different shapes, (3) passing Python objects instead of tensors. For (1), please define your @tf.function outside of the loop. For (2), @tf.function has experimental_relax_shapes=True option that relaxes argument shapes that can avoid unnecessary retracing. For (3), please refer to https://www.tensorflow.org/tutorials/customization/performance#python_or_tensor_args and https://www.tensorflow.org/api_docs/python/tf/function for  more details.\n",
      "1/1 - 0s - loss: 7.0643e-04 - accuracy: 1.0000\n",
      "WARNING:tensorflow:10 out of the last 10 calls to <function Model.make_test_function.<locals>.test_function at 0x7f7f68055160> triggered tf.function retracing. Tracing is expensive and the excessive number of tracings could be due to (1) creating @tf.function repeatedly in a loop, (2) passing tensors with different shapes, (3) passing Python objects instead of tensors. For (1), please define your @tf.function outside of the loop. For (2), @tf.function has experimental_relax_shapes=True option that relaxes argument shapes that can avoid unnecessary retracing. For (3), please refer to https://www.tensorflow.org/tutorials/customization/performance#python_or_tensor_args and https://www.tensorflow.org/api_docs/python/tf/function for  more details.\n",
      "1/1 - 0s - loss: 0.3086 - accuracy: 0.6452\n",
      "WARNING:tensorflow:5 out of the last 13 calls to <function Model.make_predict_function.<locals>.predict_function at 0x7f7fb0363700> triggered tf.function retracing. Tracing is expensive and the excessive number of tracings could be due to (1) creating @tf.function repeatedly in a loop, (2) passing tensors with different shapes, (3) passing Python objects instead of tensors. For (1), please define your @tf.function outside of the loop. For (2), @tf.function has experimental_relax_shapes=True option that relaxes argument shapes that can avoid unnecessary retracing. For (3), please refer to https://www.tensorflow.org/tutorials/customization/performance#python_or_tensor_args and https://www.tensorflow.org/api_docs/python/tf/function for  more details.\n",
      "WARNING:tensorflow:11 out of the last 11 calls to <function Model.make_test_function.<locals>.test_function at 0x7f7f4c7aaee0> triggered tf.function retracing. Tracing is expensive and the excessive number of tracings could be due to (1) creating @tf.function repeatedly in a loop, (2) passing tensors with different shapes, (3) passing Python objects instead of tensors. For (1), please define your @tf.function outside of the loop. For (2), @tf.function has experimental_relax_shapes=True option that relaxes argument shapes that can avoid unnecessary retracing. For (3), please refer to https://www.tensorflow.org/tutorials/customization/performance#python_or_tensor_args and https://www.tensorflow.org/api_docs/python/tf/function for  more details.\n",
      "1/1 - 0s - loss: 0.0053 - accuracy: 0.9950\n",
      "WARNING:tensorflow:11 out of the last 11 calls to <function Model.make_test_function.<locals>.test_function at 0x7f7f4c7aaee0> triggered tf.function retracing. Tracing is expensive and the excessive number of tracings could be due to (1) creating @tf.function repeatedly in a loop, (2) passing tensors with different shapes, (3) passing Python objects instead of tensors. For (1), please define your @tf.function outside of the loop. For (2), @tf.function has experimental_relax_shapes=True option that relaxes argument shapes that can avoid unnecessary retracing. For (3), please refer to https://www.tensorflow.org/tutorials/customization/performance#python_or_tensor_args and https://www.tensorflow.org/api_docs/python/tf/function for  more details.\n"
     ]
    },
    {
     "name": "stdout",
     "output_type": "stream",
     "text": [
      "1/1 - 0s - loss: 0.3336 - accuracy: 0.5806\n",
      "WARNING:tensorflow:5 out of the last 13 calls to <function Model.make_predict_function.<locals>.predict_function at 0x7f7fb0235820> triggered tf.function retracing. Tracing is expensive and the excessive number of tracings could be due to (1) creating @tf.function repeatedly in a loop, (2) passing tensors with different shapes, (3) passing Python objects instead of tensors. For (1), please define your @tf.function outside of the loop. For (2), @tf.function has experimental_relax_shapes=True option that relaxes argument shapes that can avoid unnecessary retracing. For (3), please refer to https://www.tensorflow.org/tutorials/customization/performance#python_or_tensor_args and https://www.tensorflow.org/api_docs/python/tf/function for  more details.\n",
      "test auc\n",
      "0.7437908496732026\n",
      "train auc\n",
      "1.0\n",
      "test acc\n",
      "0.6935483870967742\n",
      "specificity\n",
      "0.7058823529411765\n",
      "sensitivity\n",
      "0.6888888888888889\n"
     ]
    }
   ],
   "source": [
    "#model.load_weights(\"./model/16snp_ann-196-0.63.h5\")\n",
    "#test_loss, test_acc = model1.evaluate(x_train_np, y_train_np, batch_size=200, verbose=2)\n",
    "predict_test =np.zeros((62,1))\n",
    "predict_train =np.zeros((200,1))\n",
    "raw_output_test=[]\n",
    "raw_output_train=[]\n",
    "num_train =200\n",
    "SNPs = [['rs3771485', 'rs2235371', 'rs2013162', 'rs4252328', 'rs7129848', 'rs7940667', 'rs4464513', 'rs16873348', 'rs2819861', 'rs1934328', 'rs2284791', 'rs16827741', 'rs17317411', 'rs6029273', 'rs481931', 'rs11796677'],\n",
    "           ['rs2235373','rs2013162','rs1044516','rs11204737','rs595918','rs16873348','rs3753582','rs2284791','rs3917192','rs7715100','rs13041247','rs1934328','rs1801131','rs7517566','rs2819861','rs4252328'],\n",
    "           ['rs3771485', 'rs6029273', 'rs16873348', 'rs1429591', 'rs1537514', 'rs2241894', 'rs3821272', 'rs4147871', 'rs195291', 'rs17104944', 'rs16827741', 'rs2295221', 'rs2235375', 'rs1934328', 'rs3771498', 'rs1801131'],\n",
    "           ['rs3771485', 'rs1537514', 'rs2235371', 'rs4252328', 'rs7129848', 'rs1044516', 'rs4464513', 'rs11796677', 'rs2819861', 'rs1934328', 'rs3821949', 'rs16827741', 'rs17317411', 'rs1801133', 'rs481931', 'rs11796677'],\n",
    "           ['rs3771485', 'rs3821272', 'rs195291', 'rs4464513', 'rs481931', 'rs3917211', 'rs17104939', 'rs11156925', 'rs599021', 'rs2013162', 'rs2284791', 'rs931953', 'rs4252328', 'rs7129848', 'rs15251', 'rs2274976'],\n",
    "       ['rs17104944', 'rs1537514', 'rs2013162', 'rs4252328', 'rs906830', 'rs7940667', 'rs4464513', 'rs16873348', 'rs15251', 'rs1934328', 'rs2284791', 'rs599021', 'rs11204737', 'rs6029273', 'rs481931', 'rs11796677']]\n",
    "print(SNPs[0])\n",
    "for i,j in zip(models,range(len(models))):\n",
    "    X_train = dataset[SNPs[j]]\n",
    "    x_train_np = np.array(X_train)[:num_train].astype(\"float\")\n",
    "    x_test_np = np.array(X_train)[num_train:].astype(\"float\")\n",
    "    y_train_np = np.array(y_train)[:num_train].astype(\"float\")\n",
    "    y_test_np = np.array(y_train)[num_train:].astype(\"float\")\n",
    "    \n",
    "    i.evaluate(x_train_np, y_train_np, batch_size=200, verbose=2)\n",
    "    i.evaluate(x_test_np, y_test_np, batch_size=100, verbose=2)\n",
    "    predict_test+=i.predict(x_test_np, batch_size=100)\n",
    "    predict_train+=i.predict(x_train_np, batch_size=100)\n",
    "    raw_output_test.append(i.predict(x_test_np, batch_size=100))\n",
    "    raw_output_train.append(i.predict(x_train_np, batch_size=100))\n",
    "threshold = 6\n",
    "print('test auc')\n",
    "print(roc_auc_score(y_test_np, predict_test))\n",
    "print('train auc')\n",
    "print(accuracy_score(y_train_np, np.round(predict_train/threshold,0)))\n",
    "print('test acc')\n",
    "print(accuracy_score(y_test_np, np.round(predict_test/threshold,0)))\n",
    "tn, fp, fn, tp = confusion_matrix(y_test_np, np.round(predict_test/threshold,0)).ravel()\n",
    "specificity = tn/(tn+fp)\n",
    "sensitivity = tp/(tp+fn)\n",
    "print('specificity')\n",
    "print(specificity)\n",
    "print('sensitivity')\n",
    "print(sensitivity)"
   ]
  },
  {
   "cell_type": "code",
   "execution_count": 20,
   "metadata": {},
   "outputs": [
    {
     "name": "stdout",
     "output_type": "stream",
     "text": [
      "Classification Report\n",
      "              precision    recall  f1-score   support\n",
      "\n",
      "           0     0.4615    0.7059    0.5581        17\n",
      "           1     0.8611    0.6889    0.7654        45\n",
      "\n",
      "    accuracy                         0.6935        62\n",
      "   macro avg     0.6613    0.6974    0.6618        62\n",
      "weighted avg     0.7516    0.6935    0.7086        62\n",
      "\n",
      "              precision    recall  f1-score   support\n",
      "\n",
      "           0     0.3913    0.5294    0.4500        17\n",
      "           1     0.7949    0.6889    0.7381        45\n",
      "\n",
      "    accuracy                         0.6452        62\n",
      "   macro avg     0.5931    0.6092    0.5940        62\n",
      "weighted avg     0.6842    0.6452    0.6591        62\n",
      "\n"
     ]
    }
   ],
   "source": [
    "print('Classification Report')\n",
    "print(classification_report(y_test_np, np.round(predict_test/6,0), target_names=['0','1'], digits=4))\n",
    "print(classification_report(y_test_np, np.round(raw_output_test[1],0), target_names=['0','1'], digits=4))"
   ]
  },
  {
   "cell_type": "code",
   "execution_count": 23,
   "metadata": {},
   "outputs": [
    {
     "name": "stdout",
     "output_type": "stream",
     "text": [
      "0.6496732026143791\n",
      "[0.         0.         0.         0.05882353 0.05882353 0.11764706\n",
      " 0.11764706 0.17647059 0.17647059 0.23529412 0.23529412 0.29411765\n",
      " 0.29411765 0.41176471 0.41176471 0.47058824 0.47058824 0.52941176\n",
      " 0.52941176 0.58823529 0.58823529 0.76470588 0.76470588 1.        ]\n",
      "[0.         0.02222222 0.06666667 0.06666667 0.26666667 0.26666667\n",
      " 0.33333333 0.33333333 0.6        0.6        0.66666667 0.66666667\n",
      " 0.68888889 0.68888889 0.71111111 0.71111111 0.75555556 0.75555556\n",
      " 0.93333333 0.93333333 0.97777778 0.97777778 1.         1.        ]\n",
      "[0.         0.         0.         0.05882353 0.05882353 0.11764706\n",
      " 0.11764706 0.17647059 0.17647059 0.23529412 0.23529412 0.29411765\n",
      " 0.29411765 0.35294118 0.35294118 0.41176471 0.41176471 0.47058824\n",
      " 0.47058824 0.52941176 0.52941176 0.58823529 0.58823529 0.64705882\n",
      " 0.64705882 0.70588235 0.70588235 0.82352941 0.82352941 1.        ]\n",
      "[0.         0.02222222 0.06666667 0.06666667 0.11111111 0.11111111\n",
      " 0.26666667 0.26666667 0.33333333 0.33333333 0.42222222 0.42222222\n",
      " 0.46666667 0.46666667 0.53333333 0.53333333 0.68888889 0.68888889\n",
      " 0.71111111 0.71111111 0.82222222 0.82222222 0.84444444 0.84444444\n",
      " 0.91111111 0.91111111 0.93333333 0.93333333 1.         1.        ]\n"
     ]
    },
    {
     "data": {
      "image/png": "[encoded data removed]",
      "text/plain": [
       "<Figure size 432x288 with 1 Axes>"
      ]
     },
     "metadata": {
      "needs_background": "light"
     },
     "output_type": "display_data"
    }
   ],
   "source": [
    "from sklearn.metrics import roc_curve, auc\n",
    "\n",
    "nn_fpr_keras, nn_tpr_keras, nn_thresholds_keras = roc_curve(y_test_np, predict_test)\n",
    "t, o, _ = roc_curve(y_test_np, raw_output_test[1])\n",
    "print(roc_auc_score(y_test_np, raw_output_test[1]))\n",
    "print(nn_fpr_keras)\n",
    "print(nn_tpr_keras)\n",
    "print(t)\n",
    "print(o)\n",
    "auc_keras = auc(nn_fpr_keras, nn_tpr_keras)\n",
    "plt.plot([0, 1], [0, 1], \"k--\", lw=1)\n",
    "plt.xlim([0.0, 1.0])\n",
    "plt.ylim([0.0, 1.0])\n",
    "plt.xlabel(\"1 - Specificity\")\n",
    "plt.ylabel(\"Sensitivity\")\n",
    "plt.gca().set_aspect('equal', adjustable='box')\n",
    "\n",
    "plt.title('16 SNPs AUC')\n",
    "plt.plot([0,0.1176,0.2352,0.37,0.7647,1], [0,0.3333,0.6666,0.7555,0.9777,1], label='GANNET(0.744)',color='r')\n",
    "plt.plot([0,0.1176,0.1764,0.2941,0.4117,0.7647,0.9411,1], [0,0.2,0.4,0.5555,0.6888,0.9111,0.9555,1], label='ANN(0.650)',color='C1')\n",
    "plt.plot([0,0.0839,0.2027,0.3986,0.5104,0.8041,1], [0,0.2268,0.4285,0.6974,0.7983,0.9747,1], label='PRS(0.679)', color = 'C8')\n",
    "plt.plot([0.,0.4074,1.], [0.,0.6857,1.], label='RF(0.635)',color='C2')\n",
    "plt.plot([0.,0.3333,1.], [0.,0.6857,1.], label='SVM(0.680)',color='C4')\n",
    "plt.plot([0.,0.4074,1.], [0.,0.6571,1.], label='XGB(0.625)',color='C0')\n",
    "#plt.plot([0.,0.4815,1.], [0.,0.6,1.], label='LR(0.559)', color = 'C5')\n",
    "plt.plot([0.,0.4444,1.], [0.,0.5429,1.], label='LGBM(0.549)', color = 'C6')\n",
    "plt.plot([0.,0.4074,1.], [0.,0.5714,1.], label='ADA(0.582)', color = 'C9')\n",
    "\n",
    "plt.legend(loc='best',frameon=False, prop={'size': 8})\n",
    "plt.savefig(\"./figure/16snp_roc1.png\",dpi=300)"
   ]
  },
  {
   "cell_type": "code",
   "execution_count": null,
   "metadata": {},
   "outputs": [],
   "source": []
  },
  {
   "cell_type": "code",
   "execution_count": null,
   "metadata": {},
   "outputs": [],
   "source": []
  }
 ],
 "metadata": {
  "kernelspec": {
   "display_name": "Python 3 (ipykernel)",
   "language": "python",
   "name": "python3"
  },
  "language_info": {
   "codemirror_mode": {
    "name": "ipython",
    "version": 3
   },
   "file_extension": ".py",
   "mimetype": "text/x-python",
   "name": "python",
   "nbconvert_exporter": "python",
   "pygments_lexer": "ipython3",
   "version": "3.8.10"
  }
 },
 "nbformat": 4,
 "nbformat_minor": 4
}
